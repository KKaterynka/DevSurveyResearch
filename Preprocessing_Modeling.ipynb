{
  "nbformat": 4,
  "nbformat_minor": 0,
  "metadata": {
    "colab": {
      "provenance": []
    },
    "kernelspec": {
      "name": "python3",
      "display_name": "Python 3"
    },
    "language_info": {
      "name": "python"
    }
  },
  "cells": [
    {
      "cell_type": "markdown",
      "source": [
        "##**Intro**"
      ],
      "metadata": {
        "id": "20YeEzXdAO8z"
      }
    },
    {
      "cell_type": "code",
      "execution_count": 1,
      "metadata": {
        "id": "nEi1T1KA8Tck",
        "colab": {
          "base_uri": "https://localhost:8080/"
        },
        "outputId": "d9eb4d84-25d7-4818-8928-80065a064356"
      },
      "outputs": [
        {
          "output_type": "stream",
          "name": "stdout",
          "text": [
            "Looking in indexes: https://pypi.org/simple, https://us-python.pkg.dev/colab-wheels/public/simple/\n",
            "Requirement already satisfied: stargazer in /usr/local/lib/python3.10/dist-packages (0.0.5)\n"
          ]
        }
      ],
      "source": [
        "# !pip install -U pandas-profiling\n",
        "!pip install stargazer"
      ]
    },
    {
      "cell_type": "code",
      "source": [
        "import pandas as pd\n",
        "\n",
        "from pathlib import Path\n",
        "\n",
        "import plotly.graph_objs as go \n",
        "from plotly.offline import init_notebook_mode,iplot\n",
        "init_notebook_mode(connected=True) \n",
        "\n",
        "import plotly.io as pi\n",
        "pi.renderers.default = \"colab\"\n",
        "\n",
        "import seaborn as sns\n",
        "import matplotlib.pyplot as plt\n",
        "\n",
        "import statsmodels.api as sm\n",
        "from statsmodels.formula.api import ols\n",
        "\n",
        "import plotly.express as px\n",
        "\n",
        "# from ydata_profiling import ProfileReport\n",
        "# from ydata_profiling.utils.cache import cache_file\n",
        "\n",
        "import numpy as np\n",
        "import statsmodels.formula.api as smf\n",
        "\n",
        "from scipy.stats import skew, pearsonr,  f as f_dist\n",
        "import sklearn.metrics as skm\n",
        "from sklearn.metrics import accuracy_score, confusion_matrix, precision_score, recall_score, f1_score, r2_score\n",
        "from sklearn.linear_model import LinearRegression\n",
        "from sklearn.model_selection import train_test_split\n",
        "\n",
        "from stargazer.stargazer import Stargazer\n"
      ],
      "metadata": {
        "colab": {
          "base_uri": "https://localhost:8080/",
          "height": 17
        },
        "id": "ZOF0MRb88YuZ",
        "outputId": "ee1353cb-4de3-4a9c-df0e-183bd05dfd11"
      },
      "execution_count": 2,
      "outputs": [
        {
          "output_type": "display_data",
          "data": {
            "text/html": [
              "        <script type=\"text/javascript\">\n",
              "        window.PlotlyConfig = {MathJaxConfig: 'local'};\n",
              "        if (window.MathJax && window.MathJax.Hub && window.MathJax.Hub.Config) {window.MathJax.Hub.Config({SVG: {font: \"STIX-Web\"}});}\n",
              "        if (typeof require !== 'undefined') {\n",
              "        require.undef(\"plotly\");\n",
              "        requirejs.config({\n",
              "            paths: {\n",
              "                'plotly': ['https://cdn.plot.ly/plotly-2.18.2.min']\n",
              "            }\n",
              "        });\n",
              "        require(['plotly'], function(Plotly) {\n",
              "            window._Plotly = Plotly;\n",
              "        });\n",
              "        }\n",
              "        </script>\n",
              "        "
            ]
          },
          "metadata": {}
        }
      ]
    },
    {
      "cell_type": "code",
      "source": [
        "def load_df(path):\n",
        "    \"\"\"\n",
        "    Load a DataFrame from a CSV file.\n",
        "\n",
        "    Args:\n",
        "        path (str): The file path of the CSV file.\n",
        "\n",
        "    Returns:\n",
        "        pandas.DataFrame: The loaded DataFrame.\n",
        "    \"\"\"\n",
        "\n",
        "    # read the CSV file into a DataFrame\n",
        "    df = pd.read_csv(path)\n",
        "    return df\n"
      ],
      "metadata": {
        "id": "QrPJYx0k8aih"
      },
      "execution_count": 3,
      "outputs": []
    },
    {
      "cell_type": "code",
      "source": [
        "df_survey_2022 = load_df(\"survey_results_public2022.csv\")"
      ],
      "metadata": {
        "id": "S_JFz9rL8fMu"
      },
      "execution_count": 4,
      "outputs": []
    },
    {
      "cell_type": "code",
      "source": [
        "selected_vars = [\"ConvertedCompYearly\" ,\"RemoteWork\", \"EdLevel\", \"YearsCodePro\", \"MainBranch\", \"Employment\", \"OrgSize\", \"Country\", \"LanguageHaveWorkedWith\", \"Age\", \"Gender\"]"
      ],
      "metadata": {
        "id": "YYZ_lil18gyJ"
      },
      "execution_count": 5,
      "outputs": []
    },
    {
      "cell_type": "code",
      "source": [
        "df_survey_2022 = df_survey_2022[selected_vars]"
      ],
      "metadata": {
        "id": "cNW7Tcf_8iM9"
      },
      "execution_count": 6,
      "outputs": []
    },
    {
      "cell_type": "code",
      "source": [
        "df_survey_2022.info()"
      ],
      "metadata": {
        "colab": {
          "base_uri": "https://localhost:8080/"
        },
        "id": "ZKPacQk28jt1",
        "outputId": "f71c575c-23bc-4ffa-b29a-561b2e71205f"
      },
      "execution_count": 7,
      "outputs": [
        {
          "output_type": "stream",
          "name": "stdout",
          "text": [
            "<class 'pandas.core.frame.DataFrame'>\n",
            "RangeIndex: 73268 entries, 0 to 73267\n",
            "Data columns (total 11 columns):\n",
            " #   Column                  Non-Null Count  Dtype  \n",
            "---  ------                  --------------  -----  \n",
            " 0   ConvertedCompYearly     38071 non-null  float64\n",
            " 1   RemoteWork              58958 non-null  object \n",
            " 2   EdLevel                 71571 non-null  object \n",
            " 3   YearsCodePro            51833 non-null  object \n",
            " 4   MainBranch              73268 non-null  object \n",
            " 5   Employment              71709 non-null  object \n",
            " 6   OrgSize                 51039 non-null  object \n",
            " 7   Country                 71771 non-null  object \n",
            " 8   LanguageHaveWorkedWith  70975 non-null  object \n",
            " 9   Age                     70946 non-null  object \n",
            " 10  Gender                  70853 non-null  object \n",
            "dtypes: float64(1), object(10)\n",
            "memory usage: 6.1+ MB\n"
          ]
        }
      ]
    },
    {
      "cell_type": "markdown",
      "source": [
        "##**Prepare data**"
      ],
      "metadata": {
        "id": "MKT4kWRBAVXO"
      }
    },
    {
      "cell_type": "markdown",
      "source": [
        "In this section we will:\n",
        "1. Drop nan values of dependent variable\n",
        "2. Leave only professional developers in the dataset\n",
        "3. Leave only employed full-time, part-time, freelancer from *Employment*\n",
        "4. Drop Secondary and Elementary school of *EdLevel*\n",
        "5. Leave only Men and Women from *Gender*\n",
        "6. Drop any other rows with nan values\n",
        "7. Cut outliers\n",
        "8. Drop useless data - \"Prefered not to say\" from *Age*\n",
        "\n",
        "etc."
      ],
      "metadata": {
        "id": "TB54qCsOAYBg"
      }
    },
    {
      "cell_type": "code",
      "source": [
        "# filter out rows where the \"ConvertedCompYearly\" column is null\n",
        "df_survey_2022 = df_survey_2022[df_survey_2022[\"ConvertedCompYearly\"].notnull()]"
      ],
      "metadata": {
        "id": "_1YWZ-RA9AMH"
      },
      "execution_count": 8,
      "outputs": []
    },
    {
      "cell_type": "code",
      "source": [
        "# filter out rows where the \"MainBranch\" column is not \"I am a developer by profession\"\n",
        "df_survey_2022 = df_survey_2022[df_survey_2022[\"MainBranch\"] == \"I am a developer by profession\"]"
      ],
      "metadata": {
        "id": "86F_7scx9HgF"
      },
      "execution_count": 9,
      "outputs": []
    },
    {
      "cell_type": "code",
      "source": [
        "# filter out rows where the \"Employment\" column has values other than the specified options\n",
        "df_survey_2022 = df_survey_2022[df_survey_2022[\"Employment\"].isin([\"Employed, full-time\",\n",
        "                                          \"Independent contractor, freelancer, or self-employed\",\n",
        "                                          \"Employed, part-time\",\n",
        "                                          \"Employed, full-time;Independent contractor, freelancer, or self-employed\"])]"
      ],
      "metadata": {
        "id": "NN5wC4Ov9SmP"
      },
      "execution_count": 10,
      "outputs": []
    },
    {
      "cell_type": "code",
      "source": [
        "df_survey_2022 = df_survey_2022[df_survey_2022[\"EdLevel\"].isin(['Bachelor’s degree (B.A., B.S., B.Eng., etc.)',\n",
        "                                                                'Master’s degree (M.A., M.S., M.Eng., MBA, etc.)',\n",
        "                                                                'Something else',\n",
        "                                                                'Some college/university study without earning a degree',\n",
        "                                                                'Professional degree (JD, MD, etc.)',\n",
        "                                                                'Other doctoral degree (Ph.D., Ed.D., etc.)'])]"
      ],
      "metadata": {
        "id": "Rk9hQTt6a1cG"
      },
      "execution_count": 11,
      "outputs": []
    },
    {
      "cell_type": "code",
      "source": [
        "df_survey_2022 = df_survey_2022[df_survey_2022[\"Gender\"].isin([\"Man\", \"Woman\"])]"
      ],
      "metadata": {
        "id": "mqJ8GPSXBR3m"
      },
      "execution_count": 12,
      "outputs": []
    },
    {
      "cell_type": "code",
      "source": [
        "# drop rows with any remaining null values\n",
        "df_survey_2022 = df_survey_2022.dropna()"
      ],
      "metadata": {
        "id": "2j7EC44d9T9J"
      },
      "execution_count": 13,
      "outputs": []
    },
    {
      "cell_type": "code",
      "source": [
        "# remove rows where \"ConvertedCompYearly\" is less then 1,000\n",
        "df_survey_2022 = df_survey_2022[df_survey_2022[\"ConvertedCompYearly\"] > 500]\n",
        "df_survey_2022 = df_survey_2022[df_survey_2022[\"ConvertedCompYearly\"] < 500000]"
      ],
      "metadata": {
        "id": "8ZtxqZtz9gXb"
      },
      "execution_count": 14,
      "outputs": []
    },
    {
      "cell_type": "code",
      "source": [
        "# remove rows where the age is \"Prefer not to say\"\n",
        "age_remover = df_survey_2022[df_survey_2022[\"Age\"].isin(['Prefer not to say'])].index\n",
        "df_survey_2022 = df_survey_2022.drop(age_remover)"
      ],
      "metadata": {
        "id": "IIlBivlg9jdM"
      },
      "execution_count": 15,
      "outputs": []
    },
    {
      "cell_type": "code",
      "source": [
        "def exper_fix(x):\n",
        "    \"\"\"\n",
        "    Fix the format of experience values.\n",
        "\n",
        "    Args:\n",
        "        x (str): The experience value.\n",
        "\n",
        "    Returns:\n",
        "        float or str: The fixed experience value.\n",
        "    \"\"\"\n",
        "\n",
        "    if x == 'More than 50 years':\n",
        "        return 50\n",
        "    elif x == 'Less than 1 year':\n",
        "        return 0.5\n",
        "    else:\n",
        "        return x\n",
        "\n",
        "def onsite_mapping(x):\n",
        "    \"\"\"\n",
        "    Map onsite work options to numerical values.\n",
        "\n",
        "    Args:\n",
        "        x (str): The onsite work option.\n",
        "\n",
        "    Returns:\n",
        "        int: The mapped numerical value.\n",
        "    \"\"\"\n",
        "    \n",
        "    if 'Fully remote' in x:\n",
        "        return 0\n",
        "    elif 'Hybrid' in x:\n",
        "        return 1\n",
        "    elif 'Full in-person' in x:\n",
        "        return 2\n",
        "\n",
        "def gender_mapping(x):\n",
        "    \n",
        "    if 'Man' in x:\n",
        "        return 0\n",
        "    else:\n",
        "        return 1\n"
      ],
      "metadata": {
        "id": "71rIItl2-T0N"
      },
      "execution_count": 16,
      "outputs": []
    },
    {
      "cell_type": "code",
      "source": [
        "def split_cols(df):\n",
        "    df_res = df.to_frame()\n",
        "    options = []\n",
        "    for i, value in df[df.notnull()].items():\n",
        "        option_list = value.split(';')\n",
        "        for option in option_list:\n",
        "            if not option in df_res.columns:\n",
        "                options.append(option)\n",
        "                df_res[option] = 0\n",
        "            df_res.at[i, option] = 1\n",
        "    return df_res[options]"
      ],
      "metadata": {
        "id": "nK0Mi3ZK-pNB"
      },
      "execution_count": 17,
      "outputs": []
    },
    {
      "cell_type": "code",
      "source": [
        "def encode_vars(df):\n",
        "\n",
        "    # dummy variable for educational level\n",
        "    ed_level = split_cols(df[\"EdLevel\"])\n",
        "    df = pd.concat([df, ed_level], axis=1)\n",
        "    df = df.drop([\"EdLevel\"], axis=1)\n",
        "\n",
        "    # dev_type = split_cols(df[\"DevType\"])\n",
        "    # dev_type_sum = dev_type.sum()\n",
        "    # keep_col = dev_type_sum[dev_type_sum.values >= 1000].index\n",
        "    # # concatenate dev_type columns to the DataFrame\n",
        "    # df = pd.concat([df, dev_type[keep_col]], axis=1)\n",
        "    # # drop the original \"DevType\" column\n",
        "    # df = df.drop([\"DevType\"], axis=1)\n",
        "\n",
        "    # apply exper_fix function to \"YearsCodePro\" column\n",
        "    df[\"YearsCodePro\"] = df[\"YearsCodePro\"].apply(exper_fix)\n",
        "    df[\"YearsCodePro\"] = df[\"YearsCodePro\"].astype(float)\n",
        "\n",
        "    language = split_cols(df[\"LanguageHaveWorkedWith\"])\n",
        "    language_sum = language.sum()\n",
        "    keep_language = language_sum[language_sum.values >= 3000].index\n",
        "    # concatenate language columns to the DataFrame\n",
        "    df = pd.concat([df, language[keep_language]], axis=1)\n",
        "\n",
        "    # drop unnecessary columns\n",
        "    df = df.drop([\"LanguageHaveWorkedWith\", \"Employment\", \"MainBranch\"], axis=1)\n",
        "\n",
        "    # dummy variable for \"Age\" column\n",
        "    age_type = split_cols(df[\"Age\"])\n",
        "    df = pd.concat([df, age_type], axis=1)\n",
        "    df = df.drop([\"Age\"], axis=1)\n",
        "\n",
        "    # remove rows where the organization size is \"I don’t know\"\n",
        "    org_size_index_remove = df[df[\"OrgSize\"].isin(['I don’t know'])].index\n",
        "    df = df.drop(org_size_index_remove)\n",
        "\n",
        "    # dummy variable for educational level\n",
        "    org_size = split_cols(df[\"OrgSize\"])\n",
        "    df = pd.concat([df, org_size], axis=1)\n",
        "    df = df.drop([\"OrgSize\"], axis=1)\n",
        "\n",
        "    # apply onsite_mapping function to \"RemoteWork\" column\n",
        "    df[\"RemoteWork\"] = df[\"RemoteWork\"].apply(onsite_mapping)\n",
        "\n",
        "    country = split_cols(df[\"Country\"])\n",
        "    country_sum = country.sum()\n",
        "    keep_country = list(country_sum[country_sum.values >= 500].index) + list(country_sum[country_sum.values == 228].index)\n",
        "    # concatenate country columns to the DataFrame\n",
        "    df = pd.concat([df, country[keep_country]], axis=1)\n",
        "    df = df.drop(\"Country\", axis=1)\n",
        "\n",
        "    df[\"Gender\"] = df[\"Gender\"].apply(gender_mapping)\n",
        "\n",
        "    return df\n"
      ],
      "metadata": {
        "id": "ok5S9P7t-AY5"
      },
      "execution_count": 18,
      "outputs": []
    },
    {
      "cell_type": "code",
      "source": [
        "df_survey_2022 = encode_vars(df_survey_2022)"
      ],
      "metadata": {
        "colab": {
          "base_uri": "https://localhost:8080/"
        },
        "id": "rlZMvefA_VY7",
        "outputId": "586ff1e9-c0b1-4f57-cdb1-d84c144d23cd"
      },
      "execution_count": 19,
      "outputs": [
        {
          "output_type": "stream",
          "name": "stderr",
          "text": [
            "<ipython-input-17-bd8e1f147dd0>:9: PerformanceWarning:\n",
            "\n",
            "DataFrame is highly fragmented.  This is usually the result of calling `frame.insert` many times, which has poor performance.  Consider joining all columns at once using pd.concat(axis=1) instead. To get a de-fragmented frame, use `newframe = frame.copy()`\n",
            "\n",
            "<ipython-input-17-bd8e1f147dd0>:9: PerformanceWarning:\n",
            "\n",
            "DataFrame is highly fragmented.  This is usually the result of calling `frame.insert` many times, which has poor performance.  Consider joining all columns at once using pd.concat(axis=1) instead. To get a de-fragmented frame, use `newframe = frame.copy()`\n",
            "\n",
            "<ipython-input-17-bd8e1f147dd0>:9: PerformanceWarning:\n",
            "\n",
            "DataFrame is highly fragmented.  This is usually the result of calling `frame.insert` many times, which has poor performance.  Consider joining all columns at once using pd.concat(axis=1) instead. To get a de-fragmented frame, use `newframe = frame.copy()`\n",
            "\n",
            "<ipython-input-17-bd8e1f147dd0>:9: PerformanceWarning:\n",
            "\n",
            "DataFrame is highly fragmented.  This is usually the result of calling `frame.insert` many times, which has poor performance.  Consider joining all columns at once using pd.concat(axis=1) instead. To get a de-fragmented frame, use `newframe = frame.copy()`\n",
            "\n",
            "<ipython-input-17-bd8e1f147dd0>:9: PerformanceWarning:\n",
            "\n",
            "DataFrame is highly fragmented.  This is usually the result of calling `frame.insert` many times, which has poor performance.  Consider joining all columns at once using pd.concat(axis=1) instead. To get a de-fragmented frame, use `newframe = frame.copy()`\n",
            "\n",
            "<ipython-input-17-bd8e1f147dd0>:9: PerformanceWarning:\n",
            "\n",
            "DataFrame is highly fragmented.  This is usually the result of calling `frame.insert` many times, which has poor performance.  Consider joining all columns at once using pd.concat(axis=1) instead. To get a de-fragmented frame, use `newframe = frame.copy()`\n",
            "\n",
            "<ipython-input-17-bd8e1f147dd0>:9: PerformanceWarning:\n",
            "\n",
            "DataFrame is highly fragmented.  This is usually the result of calling `frame.insert` many times, which has poor performance.  Consider joining all columns at once using pd.concat(axis=1) instead. To get a de-fragmented frame, use `newframe = frame.copy()`\n",
            "\n",
            "<ipython-input-17-bd8e1f147dd0>:9: PerformanceWarning:\n",
            "\n",
            "DataFrame is highly fragmented.  This is usually the result of calling `frame.insert` many times, which has poor performance.  Consider joining all columns at once using pd.concat(axis=1) instead. To get a de-fragmented frame, use `newframe = frame.copy()`\n",
            "\n",
            "<ipython-input-17-bd8e1f147dd0>:9: PerformanceWarning:\n",
            "\n",
            "DataFrame is highly fragmented.  This is usually the result of calling `frame.insert` many times, which has poor performance.  Consider joining all columns at once using pd.concat(axis=1) instead. To get a de-fragmented frame, use `newframe = frame.copy()`\n",
            "\n",
            "<ipython-input-17-bd8e1f147dd0>:9: PerformanceWarning:\n",
            "\n",
            "DataFrame is highly fragmented.  This is usually the result of calling `frame.insert` many times, which has poor performance.  Consider joining all columns at once using pd.concat(axis=1) instead. To get a de-fragmented frame, use `newframe = frame.copy()`\n",
            "\n",
            "<ipython-input-17-bd8e1f147dd0>:9: PerformanceWarning:\n",
            "\n",
            "DataFrame is highly fragmented.  This is usually the result of calling `frame.insert` many times, which has poor performance.  Consider joining all columns at once using pd.concat(axis=1) instead. To get a de-fragmented frame, use `newframe = frame.copy()`\n",
            "\n",
            "<ipython-input-17-bd8e1f147dd0>:9: PerformanceWarning:\n",
            "\n",
            "DataFrame is highly fragmented.  This is usually the result of calling `frame.insert` many times, which has poor performance.  Consider joining all columns at once using pd.concat(axis=1) instead. To get a de-fragmented frame, use `newframe = frame.copy()`\n",
            "\n",
            "<ipython-input-17-bd8e1f147dd0>:9: PerformanceWarning:\n",
            "\n",
            "DataFrame is highly fragmented.  This is usually the result of calling `frame.insert` many times, which has poor performance.  Consider joining all columns at once using pd.concat(axis=1) instead. To get a de-fragmented frame, use `newframe = frame.copy()`\n",
            "\n",
            "<ipython-input-17-bd8e1f147dd0>:9: PerformanceWarning:\n",
            "\n",
            "DataFrame is highly fragmented.  This is usually the result of calling `frame.insert` many times, which has poor performance.  Consider joining all columns at once using pd.concat(axis=1) instead. To get a de-fragmented frame, use `newframe = frame.copy()`\n",
            "\n",
            "<ipython-input-17-bd8e1f147dd0>:9: PerformanceWarning:\n",
            "\n",
            "DataFrame is highly fragmented.  This is usually the result of calling `frame.insert` many times, which has poor performance.  Consider joining all columns at once using pd.concat(axis=1) instead. To get a de-fragmented frame, use `newframe = frame.copy()`\n",
            "\n",
            "<ipython-input-17-bd8e1f147dd0>:9: PerformanceWarning:\n",
            "\n",
            "DataFrame is highly fragmented.  This is usually the result of calling `frame.insert` many times, which has poor performance.  Consider joining all columns at once using pd.concat(axis=1) instead. To get a de-fragmented frame, use `newframe = frame.copy()`\n",
            "\n",
            "<ipython-input-17-bd8e1f147dd0>:9: PerformanceWarning:\n",
            "\n",
            "DataFrame is highly fragmented.  This is usually the result of calling `frame.insert` many times, which has poor performance.  Consider joining all columns at once using pd.concat(axis=1) instead. To get a de-fragmented frame, use `newframe = frame.copy()`\n",
            "\n",
            "<ipython-input-17-bd8e1f147dd0>:9: PerformanceWarning:\n",
            "\n",
            "DataFrame is highly fragmented.  This is usually the result of calling `frame.insert` many times, which has poor performance.  Consider joining all columns at once using pd.concat(axis=1) instead. To get a de-fragmented frame, use `newframe = frame.copy()`\n",
            "\n",
            "<ipython-input-17-bd8e1f147dd0>:9: PerformanceWarning:\n",
            "\n",
            "DataFrame is highly fragmented.  This is usually the result of calling `frame.insert` many times, which has poor performance.  Consider joining all columns at once using pd.concat(axis=1) instead. To get a de-fragmented frame, use `newframe = frame.copy()`\n",
            "\n",
            "<ipython-input-17-bd8e1f147dd0>:9: PerformanceWarning:\n",
            "\n",
            "DataFrame is highly fragmented.  This is usually the result of calling `frame.insert` many times, which has poor performance.  Consider joining all columns at once using pd.concat(axis=1) instead. To get a de-fragmented frame, use `newframe = frame.copy()`\n",
            "\n",
            "<ipython-input-17-bd8e1f147dd0>:9: PerformanceWarning:\n",
            "\n",
            "DataFrame is highly fragmented.  This is usually the result of calling `frame.insert` many times, which has poor performance.  Consider joining all columns at once using pd.concat(axis=1) instead. To get a de-fragmented frame, use `newframe = frame.copy()`\n",
            "\n",
            "<ipython-input-17-bd8e1f147dd0>:9: PerformanceWarning:\n",
            "\n",
            "DataFrame is highly fragmented.  This is usually the result of calling `frame.insert` many times, which has poor performance.  Consider joining all columns at once using pd.concat(axis=1) instead. To get a de-fragmented frame, use `newframe = frame.copy()`\n",
            "\n",
            "<ipython-input-17-bd8e1f147dd0>:9: PerformanceWarning:\n",
            "\n",
            "DataFrame is highly fragmented.  This is usually the result of calling `frame.insert` many times, which has poor performance.  Consider joining all columns at once using pd.concat(axis=1) instead. To get a de-fragmented frame, use `newframe = frame.copy()`\n",
            "\n",
            "<ipython-input-17-bd8e1f147dd0>:9: PerformanceWarning:\n",
            "\n",
            "DataFrame is highly fragmented.  This is usually the result of calling `frame.insert` many times, which has poor performance.  Consider joining all columns at once using pd.concat(axis=1) instead. To get a de-fragmented frame, use `newframe = frame.copy()`\n",
            "\n",
            "<ipython-input-17-bd8e1f147dd0>:9: PerformanceWarning:\n",
            "\n",
            "DataFrame is highly fragmented.  This is usually the result of calling `frame.insert` many times, which has poor performance.  Consider joining all columns at once using pd.concat(axis=1) instead. To get a de-fragmented frame, use `newframe = frame.copy()`\n",
            "\n",
            "<ipython-input-17-bd8e1f147dd0>:9: PerformanceWarning:\n",
            "\n",
            "DataFrame is highly fragmented.  This is usually the result of calling `frame.insert` many times, which has poor performance.  Consider joining all columns at once using pd.concat(axis=1) instead. To get a de-fragmented frame, use `newframe = frame.copy()`\n",
            "\n",
            "<ipython-input-17-bd8e1f147dd0>:9: PerformanceWarning:\n",
            "\n",
            "DataFrame is highly fragmented.  This is usually the result of calling `frame.insert` many times, which has poor performance.  Consider joining all columns at once using pd.concat(axis=1) instead. To get a de-fragmented frame, use `newframe = frame.copy()`\n",
            "\n",
            "<ipython-input-17-bd8e1f147dd0>:9: PerformanceWarning:\n",
            "\n",
            "DataFrame is highly fragmented.  This is usually the result of calling `frame.insert` many times, which has poor performance.  Consider joining all columns at once using pd.concat(axis=1) instead. To get a de-fragmented frame, use `newframe = frame.copy()`\n",
            "\n",
            "<ipython-input-17-bd8e1f147dd0>:9: PerformanceWarning:\n",
            "\n",
            "DataFrame is highly fragmented.  This is usually the result of calling `frame.insert` many times, which has poor performance.  Consider joining all columns at once using pd.concat(axis=1) instead. To get a de-fragmented frame, use `newframe = frame.copy()`\n",
            "\n",
            "<ipython-input-17-bd8e1f147dd0>:9: PerformanceWarning:\n",
            "\n",
            "DataFrame is highly fragmented.  This is usually the result of calling `frame.insert` many times, which has poor performance.  Consider joining all columns at once using pd.concat(axis=1) instead. To get a de-fragmented frame, use `newframe = frame.copy()`\n",
            "\n",
            "<ipython-input-17-bd8e1f147dd0>:9: PerformanceWarning:\n",
            "\n",
            "DataFrame is highly fragmented.  This is usually the result of calling `frame.insert` many times, which has poor performance.  Consider joining all columns at once using pd.concat(axis=1) instead. To get a de-fragmented frame, use `newframe = frame.copy()`\n",
            "\n",
            "<ipython-input-17-bd8e1f147dd0>:9: PerformanceWarning:\n",
            "\n",
            "DataFrame is highly fragmented.  This is usually the result of calling `frame.insert` many times, which has poor performance.  Consider joining all columns at once using pd.concat(axis=1) instead. To get a de-fragmented frame, use `newframe = frame.copy()`\n",
            "\n",
            "<ipython-input-17-bd8e1f147dd0>:9: PerformanceWarning:\n",
            "\n",
            "DataFrame is highly fragmented.  This is usually the result of calling `frame.insert` many times, which has poor performance.  Consider joining all columns at once using pd.concat(axis=1) instead. To get a de-fragmented frame, use `newframe = frame.copy()`\n",
            "\n",
            "<ipython-input-17-bd8e1f147dd0>:9: PerformanceWarning:\n",
            "\n",
            "DataFrame is highly fragmented.  This is usually the result of calling `frame.insert` many times, which has poor performance.  Consider joining all columns at once using pd.concat(axis=1) instead. To get a de-fragmented frame, use `newframe = frame.copy()`\n",
            "\n",
            "<ipython-input-17-bd8e1f147dd0>:9: PerformanceWarning:\n",
            "\n",
            "DataFrame is highly fragmented.  This is usually the result of calling `frame.insert` many times, which has poor performance.  Consider joining all columns at once using pd.concat(axis=1) instead. To get a de-fragmented frame, use `newframe = frame.copy()`\n",
            "\n",
            "<ipython-input-17-bd8e1f147dd0>:9: PerformanceWarning:\n",
            "\n",
            "DataFrame is highly fragmented.  This is usually the result of calling `frame.insert` many times, which has poor performance.  Consider joining all columns at once using pd.concat(axis=1) instead. To get a de-fragmented frame, use `newframe = frame.copy()`\n",
            "\n",
            "<ipython-input-17-bd8e1f147dd0>:9: PerformanceWarning:\n",
            "\n",
            "DataFrame is highly fragmented.  This is usually the result of calling `frame.insert` many times, which has poor performance.  Consider joining all columns at once using pd.concat(axis=1) instead. To get a de-fragmented frame, use `newframe = frame.copy()`\n",
            "\n",
            "<ipython-input-17-bd8e1f147dd0>:9: PerformanceWarning:\n",
            "\n",
            "DataFrame is highly fragmented.  This is usually the result of calling `frame.insert` many times, which has poor performance.  Consider joining all columns at once using pd.concat(axis=1) instead. To get a de-fragmented frame, use `newframe = frame.copy()`\n",
            "\n",
            "<ipython-input-17-bd8e1f147dd0>:9: PerformanceWarning:\n",
            "\n",
            "DataFrame is highly fragmented.  This is usually the result of calling `frame.insert` many times, which has poor performance.  Consider joining all columns at once using pd.concat(axis=1) instead. To get a de-fragmented frame, use `newframe = frame.copy()`\n",
            "\n",
            "<ipython-input-17-bd8e1f147dd0>:9: PerformanceWarning:\n",
            "\n",
            "DataFrame is highly fragmented.  This is usually the result of calling `frame.insert` many times, which has poor performance.  Consider joining all columns at once using pd.concat(axis=1) instead. To get a de-fragmented frame, use `newframe = frame.copy()`\n",
            "\n",
            "<ipython-input-17-bd8e1f147dd0>:9: PerformanceWarning:\n",
            "\n",
            "DataFrame is highly fragmented.  This is usually the result of calling `frame.insert` many times, which has poor performance.  Consider joining all columns at once using pd.concat(axis=1) instead. To get a de-fragmented frame, use `newframe = frame.copy()`\n",
            "\n",
            "<ipython-input-17-bd8e1f147dd0>:9: PerformanceWarning:\n",
            "\n",
            "DataFrame is highly fragmented.  This is usually the result of calling `frame.insert` many times, which has poor performance.  Consider joining all columns at once using pd.concat(axis=1) instead. To get a de-fragmented frame, use `newframe = frame.copy()`\n",
            "\n",
            "<ipython-input-17-bd8e1f147dd0>:9: PerformanceWarning:\n",
            "\n",
            "DataFrame is highly fragmented.  This is usually the result of calling `frame.insert` many times, which has poor performance.  Consider joining all columns at once using pd.concat(axis=1) instead. To get a de-fragmented frame, use `newframe = frame.copy()`\n",
            "\n",
            "<ipython-input-17-bd8e1f147dd0>:9: PerformanceWarning:\n",
            "\n",
            "DataFrame is highly fragmented.  This is usually the result of calling `frame.insert` many times, which has poor performance.  Consider joining all columns at once using pd.concat(axis=1) instead. To get a de-fragmented frame, use `newframe = frame.copy()`\n",
            "\n",
            "<ipython-input-17-bd8e1f147dd0>:9: PerformanceWarning:\n",
            "\n",
            "DataFrame is highly fragmented.  This is usually the result of calling `frame.insert` many times, which has poor performance.  Consider joining all columns at once using pd.concat(axis=1) instead. To get a de-fragmented frame, use `newframe = frame.copy()`\n",
            "\n",
            "<ipython-input-17-bd8e1f147dd0>:9: PerformanceWarning:\n",
            "\n",
            "DataFrame is highly fragmented.  This is usually the result of calling `frame.insert` many times, which has poor performance.  Consider joining all columns at once using pd.concat(axis=1) instead. To get a de-fragmented frame, use `newframe = frame.copy()`\n",
            "\n",
            "<ipython-input-17-bd8e1f147dd0>:9: PerformanceWarning:\n",
            "\n",
            "DataFrame is highly fragmented.  This is usually the result of calling `frame.insert` many times, which has poor performance.  Consider joining all columns at once using pd.concat(axis=1) instead. To get a de-fragmented frame, use `newframe = frame.copy()`\n",
            "\n",
            "<ipython-input-17-bd8e1f147dd0>:9: PerformanceWarning:\n",
            "\n",
            "DataFrame is highly fragmented.  This is usually the result of calling `frame.insert` many times, which has poor performance.  Consider joining all columns at once using pd.concat(axis=1) instead. To get a de-fragmented frame, use `newframe = frame.copy()`\n",
            "\n",
            "<ipython-input-17-bd8e1f147dd0>:9: PerformanceWarning:\n",
            "\n",
            "DataFrame is highly fragmented.  This is usually the result of calling `frame.insert` many times, which has poor performance.  Consider joining all columns at once using pd.concat(axis=1) instead. To get a de-fragmented frame, use `newframe = frame.copy()`\n",
            "\n",
            "<ipython-input-17-bd8e1f147dd0>:9: PerformanceWarning:\n",
            "\n",
            "DataFrame is highly fragmented.  This is usually the result of calling `frame.insert` many times, which has poor performance.  Consider joining all columns at once using pd.concat(axis=1) instead. To get a de-fragmented frame, use `newframe = frame.copy()`\n",
            "\n",
            "<ipython-input-17-bd8e1f147dd0>:9: PerformanceWarning:\n",
            "\n",
            "DataFrame is highly fragmented.  This is usually the result of calling `frame.insert` many times, which has poor performance.  Consider joining all columns at once using pd.concat(axis=1) instead. To get a de-fragmented frame, use `newframe = frame.copy()`\n",
            "\n",
            "<ipython-input-17-bd8e1f147dd0>:9: PerformanceWarning:\n",
            "\n",
            "DataFrame is highly fragmented.  This is usually the result of calling `frame.insert` many times, which has poor performance.  Consider joining all columns at once using pd.concat(axis=1) instead. To get a de-fragmented frame, use `newframe = frame.copy()`\n",
            "\n",
            "<ipython-input-17-bd8e1f147dd0>:9: PerformanceWarning:\n",
            "\n",
            "DataFrame is highly fragmented.  This is usually the result of calling `frame.insert` many times, which has poor performance.  Consider joining all columns at once using pd.concat(axis=1) instead. To get a de-fragmented frame, use `newframe = frame.copy()`\n",
            "\n",
            "<ipython-input-17-bd8e1f147dd0>:9: PerformanceWarning:\n",
            "\n",
            "DataFrame is highly fragmented.  This is usually the result of calling `frame.insert` many times, which has poor performance.  Consider joining all columns at once using pd.concat(axis=1) instead. To get a de-fragmented frame, use `newframe = frame.copy()`\n",
            "\n",
            "<ipython-input-17-bd8e1f147dd0>:9: PerformanceWarning:\n",
            "\n",
            "DataFrame is highly fragmented.  This is usually the result of calling `frame.insert` many times, which has poor performance.  Consider joining all columns at once using pd.concat(axis=1) instead. To get a de-fragmented frame, use `newframe = frame.copy()`\n",
            "\n",
            "<ipython-input-17-bd8e1f147dd0>:9: PerformanceWarning:\n",
            "\n",
            "DataFrame is highly fragmented.  This is usually the result of calling `frame.insert` many times, which has poor performance.  Consider joining all columns at once using pd.concat(axis=1) instead. To get a de-fragmented frame, use `newframe = frame.copy()`\n",
            "\n",
            "<ipython-input-17-bd8e1f147dd0>:9: PerformanceWarning:\n",
            "\n",
            "DataFrame is highly fragmented.  This is usually the result of calling `frame.insert` many times, which has poor performance.  Consider joining all columns at once using pd.concat(axis=1) instead. To get a de-fragmented frame, use `newframe = frame.copy()`\n",
            "\n"
          ]
        }
      ]
    },
    {
      "cell_type": "markdown",
      "source": [
        "Here is the resulting prepared dataset:"
      ],
      "metadata": {
        "id": "051m61SnAimw"
      }
    },
    {
      "cell_type": "code",
      "source": [
        "df_survey_2022"
      ],
      "metadata": {
        "colab": {
          "base_uri": "https://localhost:8080/",
          "height": 591
        },
        "id": "oCVoxjvgc5EW",
        "outputId": "09bf4045-614e-48cf-b27b-bbab54ae521c"
      },
      "execution_count": 20,
      "outputs": [
        {
          "output_type": "execute_result",
          "data": {
            "text/plain": [
              "       ConvertedCompYearly  RemoteWork  YearsCodePro  Gender  \\\n",
              "3                 215232.0           0          17.0       0   \n",
              "10                 60307.0           1           2.0       0   \n",
              "12                 65000.0           1           5.0       0   \n",
              "14                110000.0           0           5.0       0   \n",
              "16                 19224.0           1           4.0       0   \n",
              "...                    ...         ...           ...     ...   \n",
              "73112              52255.0           1           3.0       0   \n",
              "73113              94000.0           0           5.0       0   \n",
              "73116             115000.0           1          16.0       0   \n",
              "73118              57720.0           0           3.0       0   \n",
              "73119              70000.0           1           1.0       0   \n",
              "\n",
              "       Bachelor’s degree (B.A., B.S., B.Eng., etc.)  \\\n",
              "3                                                 1   \n",
              "10                                                1   \n",
              "12                                                1   \n",
              "14                                                0   \n",
              "16                                                1   \n",
              "...                                             ...   \n",
              "73112                                             1   \n",
              "73113                                             0   \n",
              "73116                                             1   \n",
              "73118                                             1   \n",
              "73119                                             1   \n",
              "\n",
              "       Master’s degree (M.A., M.S., M.Eng., MBA, etc.)  Something else  \\\n",
              "3                                                    0               0   \n",
              "10                                                   0               0   \n",
              "12                                                   0               0   \n",
              "14                                                   1               0   \n",
              "16                                                   0               0   \n",
              "...                                                ...             ...   \n",
              "73112                                                0               0   \n",
              "73113                                                1               0   \n",
              "73116                                                0               0   \n",
              "73118                                                0               0   \n",
              "73119                                                0               0   \n",
              "\n",
              "       Some college/university study without earning a degree  \\\n",
              "3                                                      0        \n",
              "10                                                     0        \n",
              "12                                                     0        \n",
              "14                                                     0        \n",
              "16                                                     0        \n",
              "...                                                  ...        \n",
              "73112                                                  0        \n",
              "73113                                                  0        \n",
              "73116                                                  0        \n",
              "73118                                                  0        \n",
              "73119                                                  0        \n",
              "\n",
              "       Professional degree (JD, MD, etc.)  \\\n",
              "3                                       0   \n",
              "10                                      0   \n",
              "12                                      0   \n",
              "14                                      0   \n",
              "16                                      0   \n",
              "...                                   ...   \n",
              "73112                                   0   \n",
              "73113                                   0   \n",
              "73116                                   0   \n",
              "73118                                   0   \n",
              "73119                                   0   \n",
              "\n",
              "       Other doctoral degree (Ph.D., Ed.D., etc.)  ...  Italy  Canada  \\\n",
              "3                                               0  ...      0       0   \n",
              "10                                              0  ...      0       0   \n",
              "12                                              0  ...      0       0   \n",
              "14                                              0  ...      0       0   \n",
              "16                                              0  ...      0       0   \n",
              "...                                           ...  ...    ...     ...   \n",
              "73112                                           0  ...      0       0   \n",
              "73113                                           0  ...      0       0   \n",
              "73116                                           0  ...      0       0   \n",
              "73118                                           0  ...      0       0   \n",
              "73119                                           0  ...      0       0   \n",
              "\n",
              "       Germany  Poland  Netherlands  Brazil  France  Spain  India  Australia  \n",
              "3            0       0            0       0       0      0      0          0  \n",
              "10           0       0            0       0       0      0      0          0  \n",
              "12           0       0            0       0       0      0      0          0  \n",
              "14           0       0            0       0       0      0      0          0  \n",
              "16           0       0            0       0       0      0      0          0  \n",
              "...        ...     ...          ...     ...     ...    ...    ...        ...  \n",
              "73112        0       0            0       0       0      0      0          0  \n",
              "73113        0       0            0       0       0      0      0          0  \n",
              "73116        0       0            0       0       0      0      0          0  \n",
              "73118        0       0            0       0       0      0      0          0  \n",
              "73119        0       0            0       0       0      0      0          0  \n",
              "\n",
              "[28522 rows x 51 columns]"
            ],
            "text/html": [
              "\n",
              "  <div id=\"df-5a61fdcc-3f0b-4003-b295-32144deb1707\">\n",
              "    <div class=\"colab-df-container\">\n",
              "      <div>\n",
              "<style scoped>\n",
              "    .dataframe tbody tr th:only-of-type {\n",
              "        vertical-align: middle;\n",
              "    }\n",
              "\n",
              "    .dataframe tbody tr th {\n",
              "        vertical-align: top;\n",
              "    }\n",
              "\n",
              "    .dataframe thead th {\n",
              "        text-align: right;\n",
              "    }\n",
              "</style>\n",
              "<table border=\"1\" class=\"dataframe\">\n",
              "  <thead>\n",
              "    <tr style=\"text-align: right;\">\n",
              "      <th></th>\n",
              "      <th>ConvertedCompYearly</th>\n",
              "      <th>RemoteWork</th>\n",
              "      <th>YearsCodePro</th>\n",
              "      <th>Gender</th>\n",
              "      <th>Bachelor’s degree (B.A., B.S., B.Eng., etc.)</th>\n",
              "      <th>Master’s degree (M.A., M.S., M.Eng., MBA, etc.)</th>\n",
              "      <th>Something else</th>\n",
              "      <th>Some college/university study without earning a degree</th>\n",
              "      <th>Professional degree (JD, MD, etc.)</th>\n",
              "      <th>Other doctoral degree (Ph.D., Ed.D., etc.)</th>\n",
              "      <th>...</th>\n",
              "      <th>Italy</th>\n",
              "      <th>Canada</th>\n",
              "      <th>Germany</th>\n",
              "      <th>Poland</th>\n",
              "      <th>Netherlands</th>\n",
              "      <th>Brazil</th>\n",
              "      <th>France</th>\n",
              "      <th>Spain</th>\n",
              "      <th>India</th>\n",
              "      <th>Australia</th>\n",
              "    </tr>\n",
              "  </thead>\n",
              "  <tbody>\n",
              "    <tr>\n",
              "      <th>3</th>\n",
              "      <td>215232.0</td>\n",
              "      <td>0</td>\n",
              "      <td>17.0</td>\n",
              "      <td>0</td>\n",
              "      <td>1</td>\n",
              "      <td>0</td>\n",
              "      <td>0</td>\n",
              "      <td>0</td>\n",
              "      <td>0</td>\n",
              "      <td>0</td>\n",
              "      <td>...</td>\n",
              "      <td>0</td>\n",
              "      <td>0</td>\n",
              "      <td>0</td>\n",
              "      <td>0</td>\n",
              "      <td>0</td>\n",
              "      <td>0</td>\n",
              "      <td>0</td>\n",
              "      <td>0</td>\n",
              "      <td>0</td>\n",
              "      <td>0</td>\n",
              "    </tr>\n",
              "    <tr>\n",
              "      <th>10</th>\n",
              "      <td>60307.0</td>\n",
              "      <td>1</td>\n",
              "      <td>2.0</td>\n",
              "      <td>0</td>\n",
              "      <td>1</td>\n",
              "      <td>0</td>\n",
              "      <td>0</td>\n",
              "      <td>0</td>\n",
              "      <td>0</td>\n",
              "      <td>0</td>\n",
              "      <td>...</td>\n",
              "      <td>0</td>\n",
              "      <td>0</td>\n",
              "      <td>0</td>\n",
              "      <td>0</td>\n",
              "      <td>0</td>\n",
              "      <td>0</td>\n",
              "      <td>0</td>\n",
              "      <td>0</td>\n",
              "      <td>0</td>\n",
              "      <td>0</td>\n",
              "    </tr>\n",
              "    <tr>\n",
              "      <th>12</th>\n",
              "      <td>65000.0</td>\n",
              "      <td>1</td>\n",
              "      <td>5.0</td>\n",
              "      <td>0</td>\n",
              "      <td>1</td>\n",
              "      <td>0</td>\n",
              "      <td>0</td>\n",
              "      <td>0</td>\n",
              "      <td>0</td>\n",
              "      <td>0</td>\n",
              "      <td>...</td>\n",
              "      <td>0</td>\n",
              "      <td>0</td>\n",
              "      <td>0</td>\n",
              "      <td>0</td>\n",
              "      <td>0</td>\n",
              "      <td>0</td>\n",
              "      <td>0</td>\n",
              "      <td>0</td>\n",
              "      <td>0</td>\n",
              "      <td>0</td>\n",
              "    </tr>\n",
              "    <tr>\n",
              "      <th>14</th>\n",
              "      <td>110000.0</td>\n",
              "      <td>0</td>\n",
              "      <td>5.0</td>\n",
              "      <td>0</td>\n",
              "      <td>0</td>\n",
              "      <td>1</td>\n",
              "      <td>0</td>\n",
              "      <td>0</td>\n",
              "      <td>0</td>\n",
              "      <td>0</td>\n",
              "      <td>...</td>\n",
              "      <td>0</td>\n",
              "      <td>0</td>\n",
              "      <td>0</td>\n",
              "      <td>0</td>\n",
              "      <td>0</td>\n",
              "      <td>0</td>\n",
              "      <td>0</td>\n",
              "      <td>0</td>\n",
              "      <td>0</td>\n",
              "      <td>0</td>\n",
              "    </tr>\n",
              "    <tr>\n",
              "      <th>16</th>\n",
              "      <td>19224.0</td>\n",
              "      <td>1</td>\n",
              "      <td>4.0</td>\n",
              "      <td>0</td>\n",
              "      <td>1</td>\n",
              "      <td>0</td>\n",
              "      <td>0</td>\n",
              "      <td>0</td>\n",
              "      <td>0</td>\n",
              "      <td>0</td>\n",
              "      <td>...</td>\n",
              "      <td>0</td>\n",
              "      <td>0</td>\n",
              "      <td>0</td>\n",
              "      <td>0</td>\n",
              "      <td>0</td>\n",
              "      <td>0</td>\n",
              "      <td>0</td>\n",
              "      <td>0</td>\n",
              "      <td>0</td>\n",
              "      <td>0</td>\n",
              "    </tr>\n",
              "    <tr>\n",
              "      <th>...</th>\n",
              "      <td>...</td>\n",
              "      <td>...</td>\n",
              "      <td>...</td>\n",
              "      <td>...</td>\n",
              "      <td>...</td>\n",
              "      <td>...</td>\n",
              "      <td>...</td>\n",
              "      <td>...</td>\n",
              "      <td>...</td>\n",
              "      <td>...</td>\n",
              "      <td>...</td>\n",
              "      <td>...</td>\n",
              "      <td>...</td>\n",
              "      <td>...</td>\n",
              "      <td>...</td>\n",
              "      <td>...</td>\n",
              "      <td>...</td>\n",
              "      <td>...</td>\n",
              "      <td>...</td>\n",
              "      <td>...</td>\n",
              "      <td>...</td>\n",
              "    </tr>\n",
              "    <tr>\n",
              "      <th>73112</th>\n",
              "      <td>52255.0</td>\n",
              "      <td>1</td>\n",
              "      <td>3.0</td>\n",
              "      <td>0</td>\n",
              "      <td>1</td>\n",
              "      <td>0</td>\n",
              "      <td>0</td>\n",
              "      <td>0</td>\n",
              "      <td>0</td>\n",
              "      <td>0</td>\n",
              "      <td>...</td>\n",
              "      <td>0</td>\n",
              "      <td>0</td>\n",
              "      <td>0</td>\n",
              "      <td>0</td>\n",
              "      <td>0</td>\n",
              "      <td>0</td>\n",
              "      <td>0</td>\n",
              "      <td>0</td>\n",
              "      <td>0</td>\n",
              "      <td>0</td>\n",
              "    </tr>\n",
              "    <tr>\n",
              "      <th>73113</th>\n",
              "      <td>94000.0</td>\n",
              "      <td>0</td>\n",
              "      <td>5.0</td>\n",
              "      <td>0</td>\n",
              "      <td>0</td>\n",
              "      <td>1</td>\n",
              "      <td>0</td>\n",
              "      <td>0</td>\n",
              "      <td>0</td>\n",
              "      <td>0</td>\n",
              "      <td>...</td>\n",
              "      <td>0</td>\n",
              "      <td>0</td>\n",
              "      <td>0</td>\n",
              "      <td>0</td>\n",
              "      <td>0</td>\n",
              "      <td>0</td>\n",
              "      <td>0</td>\n",
              "      <td>0</td>\n",
              "      <td>0</td>\n",
              "      <td>0</td>\n",
              "    </tr>\n",
              "    <tr>\n",
              "      <th>73116</th>\n",
              "      <td>115000.0</td>\n",
              "      <td>1</td>\n",
              "      <td>16.0</td>\n",
              "      <td>0</td>\n",
              "      <td>1</td>\n",
              "      <td>0</td>\n",
              "      <td>0</td>\n",
              "      <td>0</td>\n",
              "      <td>0</td>\n",
              "      <td>0</td>\n",
              "      <td>...</td>\n",
              "      <td>0</td>\n",
              "      <td>0</td>\n",
              "      <td>0</td>\n",
              "      <td>0</td>\n",
              "      <td>0</td>\n",
              "      <td>0</td>\n",
              "      <td>0</td>\n",
              "      <td>0</td>\n",
              "      <td>0</td>\n",
              "      <td>0</td>\n",
              "    </tr>\n",
              "    <tr>\n",
              "      <th>73118</th>\n",
              "      <td>57720.0</td>\n",
              "      <td>0</td>\n",
              "      <td>3.0</td>\n",
              "      <td>0</td>\n",
              "      <td>1</td>\n",
              "      <td>0</td>\n",
              "      <td>0</td>\n",
              "      <td>0</td>\n",
              "      <td>0</td>\n",
              "      <td>0</td>\n",
              "      <td>...</td>\n",
              "      <td>0</td>\n",
              "      <td>0</td>\n",
              "      <td>0</td>\n",
              "      <td>0</td>\n",
              "      <td>0</td>\n",
              "      <td>0</td>\n",
              "      <td>0</td>\n",
              "      <td>0</td>\n",
              "      <td>0</td>\n",
              "      <td>0</td>\n",
              "    </tr>\n",
              "    <tr>\n",
              "      <th>73119</th>\n",
              "      <td>70000.0</td>\n",
              "      <td>1</td>\n",
              "      <td>1.0</td>\n",
              "      <td>0</td>\n",
              "      <td>1</td>\n",
              "      <td>0</td>\n",
              "      <td>0</td>\n",
              "      <td>0</td>\n",
              "      <td>0</td>\n",
              "      <td>0</td>\n",
              "      <td>...</td>\n",
              "      <td>0</td>\n",
              "      <td>0</td>\n",
              "      <td>0</td>\n",
              "      <td>0</td>\n",
              "      <td>0</td>\n",
              "      <td>0</td>\n",
              "      <td>0</td>\n",
              "      <td>0</td>\n",
              "      <td>0</td>\n",
              "      <td>0</td>\n",
              "    </tr>\n",
              "  </tbody>\n",
              "</table>\n",
              "<p>28522 rows × 51 columns</p>\n",
              "</div>\n",
              "      <button class=\"colab-df-convert\" onclick=\"convertToInteractive('df-5a61fdcc-3f0b-4003-b295-32144deb1707')\"\n",
              "              title=\"Convert this dataframe to an interactive table.\"\n",
              "              style=\"display:none;\">\n",
              "        \n",
              "  <svg xmlns=\"http://www.w3.org/2000/svg\" height=\"24px\"viewBox=\"0 0 24 24\"\n",
              "       width=\"24px\">\n",
              "    <path d=\"M0 0h24v24H0V0z\" fill=\"none\"/>\n",
              "    <path d=\"M18.56 5.44l.94 2.06.94-2.06 2.06-.94-2.06-.94-.94-2.06-.94 2.06-2.06.94zm-11 1L8.5 8.5l.94-2.06 2.06-.94-2.06-.94L8.5 2.5l-.94 2.06-2.06.94zm10 10l.94 2.06.94-2.06 2.06-.94-2.06-.94-.94-2.06-.94 2.06-2.06.94z\"/><path d=\"M17.41 7.96l-1.37-1.37c-.4-.4-.92-.59-1.43-.59-.52 0-1.04.2-1.43.59L10.3 9.45l-7.72 7.72c-.78.78-.78 2.05 0 2.83L4 21.41c.39.39.9.59 1.41.59.51 0 1.02-.2 1.41-.59l7.78-7.78 2.81-2.81c.8-.78.8-2.07 0-2.86zM5.41 20L4 18.59l7.72-7.72 1.47 1.35L5.41 20z\"/>\n",
              "  </svg>\n",
              "      </button>\n",
              "      \n",
              "  <style>\n",
              "    .colab-df-container {\n",
              "      display:flex;\n",
              "      flex-wrap:wrap;\n",
              "      gap: 12px;\n",
              "    }\n",
              "\n",
              "    .colab-df-convert {\n",
              "      background-color: #E8F0FE;\n",
              "      border: none;\n",
              "      border-radius: 50%;\n",
              "      cursor: pointer;\n",
              "      display: none;\n",
              "      fill: #1967D2;\n",
              "      height: 32px;\n",
              "      padding: 0 0 0 0;\n",
              "      width: 32px;\n",
              "    }\n",
              "\n",
              "    .colab-df-convert:hover {\n",
              "      background-color: #E2EBFA;\n",
              "      box-shadow: 0px 1px 2px rgba(60, 64, 67, 0.3), 0px 1px 3px 1px rgba(60, 64, 67, 0.15);\n",
              "      fill: #174EA6;\n",
              "    }\n",
              "\n",
              "    [theme=dark] .colab-df-convert {\n",
              "      background-color: #3B4455;\n",
              "      fill: #D2E3FC;\n",
              "    }\n",
              "\n",
              "    [theme=dark] .colab-df-convert:hover {\n",
              "      background-color: #434B5C;\n",
              "      box-shadow: 0px 1px 3px 1px rgba(0, 0, 0, 0.15);\n",
              "      filter: drop-shadow(0px 1px 2px rgba(0, 0, 0, 0.3));\n",
              "      fill: #FFFFFF;\n",
              "    }\n",
              "  </style>\n",
              "\n",
              "      <script>\n",
              "        const buttonEl =\n",
              "          document.querySelector('#df-5a61fdcc-3f0b-4003-b295-32144deb1707 button.colab-df-convert');\n",
              "        buttonEl.style.display =\n",
              "          google.colab.kernel.accessAllowed ? 'block' : 'none';\n",
              "\n",
              "        async function convertToInteractive(key) {\n",
              "          const element = document.querySelector('#df-5a61fdcc-3f0b-4003-b295-32144deb1707');\n",
              "          const dataTable =\n",
              "            await google.colab.kernel.invokeFunction('convertToInteractive',\n",
              "                                                     [key], {});\n",
              "          if (!dataTable) return;\n",
              "\n",
              "          const docLinkHtml = 'Like what you see? Visit the ' +\n",
              "            '<a target=\"_blank\" href=https://colab.research.google.com/notebooks/data_table.ipynb>data table notebook</a>'\n",
              "            + ' to learn more about interactive tables.';\n",
              "          element.innerHTML = '';\n",
              "          dataTable['output_type'] = 'display_data';\n",
              "          await google.colab.output.renderOutput(dataTable, element);\n",
              "          const docLink = document.createElement('div');\n",
              "          docLink.innerHTML = docLinkHtml;\n",
              "          element.appendChild(docLink);\n",
              "        }\n",
              "      </script>\n",
              "    </div>\n",
              "  </div>\n",
              "  "
            ]
          },
          "metadata": {},
          "execution_count": 20
        }
      ]
    },
    {
      "cell_type": "markdown",
      "source": [
        "Here we will rename some columns for more convinient performance."
      ],
      "metadata": {
        "id": "5di5pMZ4Asrs"
      }
    },
    {
      "cell_type": "code",
      "source": [
        "df_survey_2022.rename(columns={\"Bachelor’s degree (B.A., B.S., B.Eng., etc.)\": \"isBachelor\", \n",
        "                               \"Master’s degree (M.A., M.S., M.Eng., MBA, etc.)\": \"isMaster\",\n",
        "                               \"Professional degree (JD, MD, etc.)\": \"isProfessional\",\n",
        "                               \"Other doctoral degree (Ph.D., Ed.D., etc.)\": \"hasPhD\",\n",
        "                               \"Something else\": \"noDegree\",\n",
        "                               \"100 to 499 employees\": \"emp_100_499\",\n",
        "                               \"2 to 9 employees\": \"emp_2_9\",\n",
        "                               \"5,000 to 9,999 employees\": \"emp_5k_10k\",\n",
        "                               \"1,000 to 4,999 employees\": \"emp_1k_5k\",\n",
        "                               \"20 to 99 employees\": \"emp_20_99\",\n",
        "                               \"10,000 or more employees\": \"emp_10k_plus\",\n",
        "                               \"500 to 999 employees\": \"emp_500_1k\",\n",
        "                               \"10 to 19 employees\": \"emp_10_19\",\n",
        "                               \"Just me - I am a freelancer, sole proprietor, etc.\": \"solo_emp\",\n",
        "                               \"Some college/university study without earning a degree\": \"dropOutUni\",\n",
        "                               \"35-44 years old\": \"age_35_44\",\n",
        "                               \"18-24 years old\": \"age_18_24\",\n",
        "                               \"25-34 years old\": \"age_25_34\",\n",
        "                               \"55-64 years old\": \"age_55_64\",\n",
        "                               \"45-54 years old\": \"age_45_54\",\n",
        "                               \"65 years or older\": \"age_65_plus\",\n",
        "                               \"Under 18 years old\": \"age_under_18\",\n",
        "                               \"United Kingdom of Great Britain and Northern Ireland\": \"UK\",\n",
        "                               \"United States of America\": \"USA\",\n",
        "                               \"C#\": \"C_sharp\",\n",
        "                               \"C++\": \"C_pp\",\n",
        "                               \"Bash/Shell\": \"Bash_Shell\",\n",
        "                               \"HTML/CSS\": \"HTML_CSS\"}, errors=\"raise\", inplace=True)\n"
      ],
      "metadata": {
        "id": "N_IwNYskaL4q"
      },
      "execution_count": 21,
      "outputs": []
    },
    {
      "cell_type": "markdown",
      "source": [
        "##**Linear Model**"
      ],
      "metadata": {
        "id": "8IkRT9IvriRC"
      }
    },
    {
      "cell_type": "markdown",
      "source": [
        "To perform the construction of the fully significant linear regression model we will use backward elimination method (construct model and exclude unsignificant parts according to the highest p-values of dependent variables) with significance level = 0.05 (series of t-tests)."
      ],
      "metadata": {
        "id": "HQFFaTz2A05R"
      }
    },
    {
      "cell_type": "code",
      "source": [
        "def construct_lr_model(df, dependent_var):\n",
        "\n",
        "  # independent variables\n",
        "  all_vars = np.array(pd.Series(df.columns.drop(\"ConvertedCompYearly\")).array).tolist()\n",
        "  formula_vars = ' + '.join(all_vars)\n",
        "\n",
        "  # construct linear model\n",
        "  lr_moded_all = smf.ols(formula = f'{dependent_var} ~ {formula_vars}', data=df_survey_2022)\n",
        "  lr_moded_all = lr_moded_all.fit()\n",
        "  \n",
        "  return lr_moded_all\n"
      ],
      "metadata": {
        "id": "25D_wiaIqFNu"
      },
      "execution_count": 22,
      "outputs": []
    },
    {
      "cell_type": "code",
      "source": [
        "def interpret_results(all_variables, categorical_variables, coefficients, logM=False):\n",
        "\n",
        "  print(\"Interpretation of the model:\\n\")\n",
        "  \n",
        "  print(f\"Intercept of the model is {coefficients[0]}\")\n",
        "\n",
        "  for var, coeff in zip(all_variables, np.array(coefficients[1:])):\n",
        "\n",
        "    if var in categorical_variables:\n",
        "\n",
        "      if logM:\n",
        "        print(f\"If {var} = 1, then on average yearly salary would increase by {coeff*100} %, keeping all other factors fixed.\")\n",
        "      else:\n",
        "        print(f\"If a person is {var} ({var} = 1), then on average yearly salary would increase by {coeff}, keeping all other factors fixed.\")\n",
        "\n",
        "    else:\n",
        "\n",
        "      if logM:\n",
        "        print(f\"One unit increase in {var}, would on average change yearly salary by {coeff*100} %, keeping all other factors fixed.\")\n",
        "      else:\n",
        "        print(f\"One unit increase in {var}, would on average change yearly salary by {coeff}, keeping all other factors fixed.\")\n"
      ],
      "metadata": {
        "id": "6ChDAm_6rpIt"
      },
      "execution_count": 23,
      "outputs": []
    },
    {
      "cell_type": "code",
      "source": [
        "significance_level = 0.05\n",
        "\n",
        "# implement backward elimination\n",
        "def backward_elimination(sl, dependent_var, selected_columns, iteration_no):\n",
        "\n",
        "  formula = ' + '.join(selected_columns)\n",
        "\n",
        "  # fitting variables into the model\n",
        "  current_model = smf.ols(formula = f'{dependent_var} ~ {formula}', data=df_survey_2022)\n",
        "  current_model = current_model.fit() \n",
        "  print(f\"Iteration #{iteration_no}. {formula_util(current_model, selected_columns, dependent_var)}\")\n",
        "\n",
        "  # highest p-value in the model among all variables\n",
        "  curr_max_pval = max(current_model.pvalues)\n",
        "  var_highest_pval = current_model.pvalues.idxmax(axis=0)\n",
        "\n",
        "  # track if it is needed to run the model further (step 5)\n",
        "  repeat = False\n",
        "\n",
        "  # check if the highest p-value is bigger then significance level\n",
        "  # if so, delete this variable\n",
        "  if curr_max_pval > significance_level:\n",
        "    selected_columns.remove(var_highest_pval)\n",
        "    repeat = True\n",
        "    print(f\"R-squared of the model: {current_model.rsquared}\")\n",
        "    print(f\"Adjusted R-squared of the model: {current_model.rsquared_adj}\")\n",
        "    print(f\"Variable {var_highest_pval} with p-value {curr_max_pval} > {significance_level} is dropped from the model.\\n\")\n",
        "\n",
        "\n",
        "  return repeat, selected_columns, current_model"
      ],
      "metadata": {
        "id": "eYqlHttOrakn"
      },
      "execution_count": 24,
      "outputs": []
    },
    {
      "cell_type": "code",
      "source": [
        "# display the model equation\n",
        "def formula_util(model, variables, dep_var):\n",
        "  \n",
        "  intercept = model.params[0]\n",
        "  coeff_vars = list(zip(model.params[1:], variables))\n",
        "\n",
        "  str_model = f\"{dep_var} = {intercept} + \"\n",
        "\n",
        "  for i in range(len(coeff_vars)):\n",
        "    coeff, var = coeff_vars[i][0], coeff_vars[i][1]\n",
        "    str_model += f\"({str(coeff)}) * {var}\"\n",
        "    if i != len(coeff_vars)-1:\n",
        "      str_model += \" + \"\n",
        "\n",
        "  return str_model"
      ],
      "metadata": {
        "id": "8teiHDIqxQPv"
      },
      "execution_count": 25,
      "outputs": []
    },
    {
      "cell_type": "markdown",
      "source": [
        "For right performance we should drop the variables of the base groups."
      ],
      "metadata": {
        "id": "T-52RD6KA64k"
      }
    },
    {
      "cell_type": "code",
      "source": [
        "df_for_modeling = df_survey_2022.drop([\"dropOutUni\", \"PowerShell\", \"age_under_18\", \"solo_emp\", \"Brazil\"], axis=1)\n",
        "model1 = construct_lr_model(df_for_modeling, \"ConvertedCompYearly\")\n",
        "print(model1.summary())"
      ],
      "metadata": {
        "id": "8c-gXUW1h5YF",
        "colab": {
          "base_uri": "https://localhost:8080/"
        },
        "outputId": "fd4ee8e4-9ebf-4d03-ae9f-80a913489cc0"
      },
      "execution_count": 26,
      "outputs": [
        {
          "output_type": "stream",
          "name": "stdout",
          "text": [
            "                             OLS Regression Results                            \n",
            "===============================================================================\n",
            "Dep. Variable:     ConvertedCompYearly   R-squared:                       0.426\n",
            "Model:                             OLS   Adj. R-squared:                  0.425\n",
            "Method:                  Least Squares   F-statistic:                     470.2\n",
            "Date:                 Tue, 23 May 2023   Prob (F-statistic):               0.00\n",
            "Time:                         16:59:27   Log-Likelihood:            -3.5130e+05\n",
            "No. Observations:                28522   AIC:                         7.027e+05\n",
            "Df Residuals:                    28476   BIC:                         7.031e+05\n",
            "Df Model:                           45                                         \n",
            "Covariance Type:             nonrobust                                         \n",
            "==================================================================================\n",
            "                     coef    std err          t      P>|t|      [0.025      0.975]\n",
            "----------------------------------------------------------------------------------\n",
            "Intercept       4.673e+04   3.13e+04      1.491      0.136   -1.47e+04    1.08e+05\n",
            "RemoteWork     -3831.0931    497.470     -7.701      0.000   -4806.158   -2856.028\n",
            "YearsCodePro    2402.1036     74.674     32.168      0.000    2255.739    2548.468\n",
            "Gender         -7262.0304   1527.457     -4.754      0.000   -1.03e+04   -4268.142\n",
            "isBachelor       979.1015   1017.794      0.962      0.336   -1015.824    2974.027\n",
            "isMaster        8433.1915   1120.988      7.523      0.000    6236.001    1.06e+04\n",
            "noDegree        4364.9696   3336.835      1.308      0.191   -2175.384    1.09e+04\n",
            "isProfessional   949.6963   2568.892      0.370      0.712   -4085.453    5984.845\n",
            "hasPhD          1.679e+04   2161.485      7.768      0.000    1.26e+04     2.1e+04\n",
            "C_sharp        -7195.9018    749.040     -9.607      0.000   -8664.055   -5727.748\n",
            "JavaScript     -2110.5177    872.421     -2.419      0.016   -3820.504    -400.532\n",
            "SQL            -3045.2595    698.918     -4.357      0.000   -4415.171   -1675.348\n",
            "TypeScript      8082.3383    727.682     11.107      0.000    6656.048    9508.629\n",
            "Bash_Shell      3364.8584    752.548      4.471      0.000    1889.828    4839.889\n",
            "HTML_CSS       -5936.1272    800.497     -7.416      0.000   -7505.139   -4367.115\n",
            "C              -2401.3813   1146.170     -2.095      0.036   -4647.929    -154.834\n",
            "PHP            -9669.8448    882.635    -10.956      0.000   -1.14e+04   -7939.839\n",
            "Python          3747.3177    704.651      5.318      0.000    2366.169    5128.466\n",
            "Java            1575.7055    715.042      2.204      0.028     174.189    2977.222\n",
            "Go              1.403e+04   1026.614     13.667      0.000     1.2e+04     1.6e+04\n",
            "C_pp            2219.3544   1033.742      2.147      0.032     193.170    4245.538\n",
            "age_35_44        617.9877   3.13e+04      0.020      0.984   -6.07e+04     6.2e+04\n",
            "age_18_24       -1.07e+04   3.13e+04     -0.342      0.732    -7.2e+04    5.06e+04\n",
            "age_25_34        311.8362   3.13e+04      0.010      0.992    -6.1e+04    6.16e+04\n",
            "age_55_64      -3.965e+04   3.14e+04     -1.262      0.207   -1.01e+05    2.19e+04\n",
            "age_45_54      -1.561e+04   3.13e+04     -0.498      0.618    -7.7e+04    4.58e+04\n",
            "age_65_plus    -7.587e+04   3.18e+04     -2.384      0.017   -1.38e+05   -1.35e+04\n",
            "emp_100_499    -7512.1343   1890.480     -3.974      0.000   -1.12e+04   -3806.704\n",
            "emp_2_9        -1.543e+04   2047.664     -7.535      0.000   -1.94e+04   -1.14e+04\n",
            "emp_5k_10k       786.3739   2318.103      0.339      0.734   -3757.217    5329.965\n",
            "emp_1k_5k       -646.9948   1987.367     -0.326      0.745   -4542.329    3248.339\n",
            "emp_20_99      -1.066e+04   1878.711     -5.673      0.000   -1.43e+04   -6975.396\n",
            "emp_10k_plus    5553.3777   1963.904      2.828      0.005    1704.034    9402.722\n",
            "emp_500_1k     -4757.3272   2103.354     -2.262      0.024   -8880.001    -634.653\n",
            "emp_10_19      -1.195e+04   2062.453     -5.796      0.000    -1.6e+04   -7911.328\n",
            "UK              3.438e+04   1350.707     25.456      0.000    3.17e+04     3.7e+04\n",
            "USA             9.021e+04    909.776     99.155      0.000    8.84e+04     9.2e+04\n",
            "Italy           5648.9734   2475.146      2.282      0.022     797.569    1.05e+04\n",
            "Canada          3.931e+04   1736.720     22.634      0.000    3.59e+04    4.27e+04\n",
            "Germany         1.454e+04   1333.374     10.907      0.000    1.19e+04    1.72e+04\n",
            "Poland         -3456.9205   2007.527     -1.722      0.085   -7391.767     477.927\n",
            "Netherlands     1.649e+04   2133.267      7.730      0.000    1.23e+04    2.07e+04\n",
            "France          3079.6254   1754.725      1.755      0.079    -359.719    6518.970\n",
            "Spain           1.011e+04   2110.643      4.790      0.000    5973.564    1.42e+04\n",
            "India          -1.395e+04   1379.052    -10.117      0.000   -1.67e+04   -1.12e+04\n",
            "Australia       3.739e+04   2280.995     16.391      0.000    3.29e+04    4.19e+04\n",
            "==============================================================================\n",
            "Omnibus:                    19154.232   Durbin-Watson:                   1.995\n",
            "Prob(Omnibus):                  0.000   Jarque-Bera (JB):           327474.123\n",
            "Skew:                           3.027   Prob(JB):                         0.00\n",
            "Kurtosis:                      18.457   Cond. No.                     3.26e+03\n",
            "==============================================================================\n",
            "\n",
            "Notes:\n",
            "[1] Standard Errors assume that the covariance matrix of the errors is correctly specified.\n",
            "[2] The condition number is large, 3.26e+03. This might indicate that there are\n",
            "strong multicollinearity or other numerical problems.\n"
          ]
        }
      ]
    },
    {
      "cell_type": "markdown",
      "source": [
        "As we can see, some of the dependent variables are statistically insignificant, so we will exclude them one-by-one by the highest p-value.\n",
        "\n",
        "And there are strong multicollinearity.\n",
        "\n",
        "Let's see if we can get rid of those problems, with backward elimination method."
      ],
      "metadata": {
        "id": "s4JQHMI6A_Op"
      }
    },
    {
      "cell_type": "code",
      "source": [
        "# variables for current lr model\n",
        "selected_vars = df_for_modeling.columns.drop([\"ConvertedCompYearly\"]).to_list()\n",
        "\n",
        "iteration_no = 1\n",
        "repeat, selected_vars, final_model = backward_elimination(significance_level, 'ConvertedCompYearly', selected_vars, iteration_no)\n",
        "\n",
        "while repeat:\n",
        "  iteration_no += 1\n",
        "  # print(selected_vars)\n",
        "  repeat, selected_vars, final_model = backward_elimination(significance_level, 'ConvertedCompYearly', selected_vars, iteration_no)"
      ],
      "metadata": {
        "id": "GCRv2wILrur3",
        "colab": {
          "base_uri": "https://localhost:8080/"
        },
        "outputId": "89422183-f163-47fd-d7ac-c14867c96e83"
      },
      "execution_count": 27,
      "outputs": [
        {
          "output_type": "stream",
          "name": "stdout",
          "text": [
            "Iteration #1. ConvertedCompYearly = 46734.428594534584 + (-3831.093056249198) * RemoteWork + (2402.1035708394106) * YearsCodePro + (-7262.030375770222) * Gender + (979.1015415349879) * isBachelor + (8433.191539012794) * isMaster + (4364.9696010561065) * noDegree + (949.6963279416735) * isProfessional + (16790.744978725514) * hasPhD + (-7195.901798194209) * C_sharp + (-2110.5176682984375) * JavaScript + (-3045.259489650001) * SQL + (8082.338299896731) * TypeScript + (3364.8583612444495) * Bash_Shell + (-5936.127179315035) * HTML_CSS + (-2401.3813453944394) * C + (-9669.84479450602) * PHP + (3747.3176674382794) * Python + (1575.7055263737132) * Java + (14031.062262509078) * Go + (2219.354417325435) * C_pp + (617.9877036635035) * age_35_44 + (-10699.114831317991) * age_18_24 + (311.83619727996336) * age_25_34 + (-39645.57362253901) * age_55_64 + (-15605.302683912469) * age_45_54 + (-75870.74818566133) * age_65_plus + (-7512.134281055914) * emp_100_499 + (-15429.03122756444) * emp_2_9 + (786.3738831429612) * emp_5k_10k + (-646.9947806691807) * emp_1k_5k + (-10657.758195418628) * emp_20_99 + (5553.377745389239) * emp_10k_plus + (-4757.327215859253) * emp_500_1k + (-11953.832337490612) * emp_10_19 + (34384.236205667396) * UK + (90208.89016167544) * USA + (5648.9733686190475) * Italy + (39308.05533844363) * Canada + (14542.871392890473) * Germany + (-3456.920463137403) * Poland + (16490.340719008793) * Netherlands + (3079.6254285533573) * France + (10110.524401115712) * Spain + (-13951.941600497858) * India + (37388.33824698006) * Australia\n",
            "R-squared of the model: 0.42630022378925825\n",
            "Adjusted R-squared of the model: 0.42539361858032854\n",
            "Variable age_25_34 with p-value 0.9920454334737993 > 0.05 is dropped from the model.\n",
            "\n",
            "Iteration #2. ConvertedCompYearly = 47046.21151678056 + (-3831.1072675143228) * RemoteWork + (2402.1101316524473) * YearsCodePro + (-7262.022047986873) * Gender + (979.2987760925147) * isBachelor + (8433.35020084429) * isMaster + (4365.152473719474) * noDegree + (949.8638408266391) * isProfessional + (16790.919924226728) * hasPhD + (-7196.00405888518) * C_sharp + (-2110.5317107950464) * JavaScript + (-3045.2243277957555) * SQL + (8082.369725156069) * TypeScript + (3364.805820287827) * Bash_Shell + (-5936.170575774879) * HTML_CSS + (-2401.324411593393) * C + (-9669.919278593236) * PHP + (3747.2490182100983) * Python + (1575.5894313558517) * Java + (14031.003775600362) * Go + (2219.2500087708036) * C_pp + (306.1471985620956) * age_35_44 + (-11010.808113364013) * age_18_24 + (-39957.54167052827) * age_55_64 + (-15917.202756495017) * age_45_54 + (-76182.76981640318) * age_65_plus + (-7512.176520765256) * emp_100_499 + (-15429.143173619517) * emp_2_9 + (786.3988670983055) * emp_5k_10k + (-646.9761433425514) * emp_1k_5k + (-10657.745906757862) * emp_20_99 + (5553.420361542355) * emp_10k_plus + (-4757.3066133292805) * emp_500_1k + (-11953.945796089487) * emp_10_19 + (34384.2207116662) * UK + (90208.86541703586) * USA + (5649.0213919579755) * Italy + (39308.037491066556) * Canada + (14542.8848995489) * Germany + (-3457.326767514494) * Poland + (16490.333005147742) * Netherlands + (3079.628958368758) * France + (10110.518371208338) * Spain + (-13952.322500438278) * India + (37388.31715554533) * Australia\n",
            "R-squared of the model: 0.4263002217867211\n",
            "Adjusted R-squared of the model: 0.4254137944860439\n",
            "Variable age_35_44 with p-value 0.7481280815864113 > 0.05 is dropped from the model.\n",
            "\n",
            "Iteration #3. ConvertedCompYearly = 47050.53919626698 + (-3833.1126776073957) * RemoteWork + (2415.198512617083) * YearsCodePro + (-7256.568941862726) * Gender + (972.8131193175697) * isBachelor + (8445.598539799528) * isMaster + (4362.758633186063) * noDegree + (965.306453754088) * isProfessional + (16851.13364663079) * hasPhD + (-7198.347187365882) * C_sharp + (-2108.502067874366) * JavaScript + (-3043.7866701442313) * SQL + (8071.668070157547) * TypeScript + (3365.9690998237143) * Bash_Shell + (-5935.7506669355425) * HTML_CSS + (-2408.4717138886112) * C + (-9670.776459447685) * PHP + (3738.6662430974247) * Python + (1571.0557847908035) * Java + (14019.31939670914) * Go + (2212.302289849244) * C_pp + (-11019.06180708614) * age_18_24 + (-40366.615457276464) * age_55_64 + (-16212.41029884352) * age_45_54 + (-76706.82872750956) * age_65_plus + (-7517.8268157256725) * emp_100_499 + (-15441.118234314483) * emp_2_9 + (779.9380319874479) * emp_5k_10k + (-652.0830723790682) * emp_1k_5k + (-10664.162476900892) * emp_20_99 + (5545.840176327878) * emp_10k_plus + (-4760.553279893408) * emp_500_1k + (-11965.032780116133) * emp_10_19 + (34384.43066434448) * UK + (90223.44154436173) * USA + (5664.384029931507) * Italy + (39318.75353649768) * Canada + (14552.004783457) * Germany + (-3467.7057375581794) * Poland + (16491.444286233895) * Netherlands + (3068.3110984763425) * France + (10129.700148767226) * Spain + (-13976.320087108363) * India + (37393.761597901175) * Australia\n",
            "R-squared of the model: 0.42629814446972547\n",
            "Adjusted R-squared of the model: 0.4254318905267589\n",
            "Variable emp_1k_5k with p-value 0.7428115486161548 > 0.05 is dropped from the model.\n",
            "\n",
            "Iteration #4. ConvertedCompYearly = 46554.81410310481 + (-3849.5172186949562) * RemoteWork + (2416.29526402747) * YearsCodePro + (-7259.7251868400335) * Gender + (962.5925711511205) * isBachelor + (8435.669587961906) * isMaster + (4355.039875103788) * noDegree + (967.0331494864687) * isProfessional + (16845.886326592812) * hasPhD + (-7203.309447677629) * C_sharp + (-2101.3226575947165) * JavaScript + (-3042.683328726134) * SQL + (8065.452098524045) * TypeScript + (3358.936799890618) * Bash_Shell + (-5927.429551798007) * HTML_CSS + (-2400.921513836965) * C + (-9655.122164630866) * PHP + (3737.5777279332738) * Python + (1562.756567543818) * Java + (14011.868454037254) * Go + (2215.757786982528) * C_pp + (-11011.786066922803) * age_18_24 + (-40350.88348327736) * age_55_64 + (-16200.39553916751) * age_45_54 + (-76639.50523598565) * age_65_plus + (-7011.679626989311) * emp_100_499 + (-14943.939650675538) * emp_2_9 + (1289.334334032099) * emp_5k_10k + (-10159.31315667428) * emp_20_99 + (6057.172510318012) * emp_10k_plus + (-4253.324166047141) * emp_500_1k + (-11462.75673419901) * emp_10_19 + (34379.06821795631) * UK + (90197.72690868325) * USA + (5678.6037796345945) * Italy + (39299.15982788511) * Canada + (14551.546566495954) * Germany + (-3480.2936747138397) * Poland + (16497.686999175752) * Netherlands + (3081.680142381935) * France + (10109.431269463697) * Spain + (-13983.976115381814) * India + (37390.87044077079) * Australia\n",
            "R-squared of the model: 0.4262959753502412\n",
            "Adjusted R-squared of the model: 0.4254498933587636\n",
            "Variable isProfessional with p-value 0.7065234068360116 > 0.05 is dropped from the model.\n",
            "\n",
            "Iteration #5. ConvertedCompYearly = 46684.81779427218 + (-3848.574113107925) * RemoteWork + (2416.1176189162993) * YearsCodePro + (-7256.817278794608) * Gender + (845.9779826957246) * isBachelor + (8313.480770133488) * isMaster + (4232.143137476328) * noDegree + (16724.10109148147) * hasPhD + (-7203.42530231081) * C_sharp + (-2107.2550169919323) * JavaScript + (-3039.692931014267) * SQL + (8063.447424424187) * TypeScript + (3354.778793421672) * Bash_Shell + (-5928.819945172215) * HTML_CSS + (-2402.1374105407003) * C + (-9655.104751156578) * PHP + (3738.8275675753534) * Python + (1566.2624430427127) * Java + (14010.531985805634) * Go + (2217.9918925787974) * C_pp + (-11017.339781154482) * age_18_24 + (-40335.859140377215) * age_55_64 + (-16188.54279246853) * age_45_54 + (-76642.00495611828) * age_65_plus + (-7015.304745349616) * emp_100_499 + (-14945.305425880082) * emp_2_9 + (1285.1563640614384) * emp_5k_10k + (-10165.445993976828) * emp_20_99 + (6054.45101019882) * emp_10k_plus + (-4256.574375829744) * emp_500_1k + (-11468.351734954678) * emp_10_19 + (34361.24106380114) * UK + (90183.77985166885) * USA + (5665.862155683129) * Italy + (39287.11118882771) * Canada + (14548.320209135556) * Germany + (-3490.4547496146542) * Poland + (16483.3919973784) * Netherlands + (3097.5128683582916) * France + (10188.959288148968) * Spain + (-13987.83559797695) * India + (37374.12573825881) * Australia\n",
            "R-squared of the model: 0.42629311927585256\n",
            "Adjusted R-squared of the model: 0.42546720698267526\n",
            "Variable emp_5k_10k with p-value 0.4552780844489027 > 0.05 is dropped from the model.\n",
            "\n",
            "Iteration #6. ConvertedCompYearly = 46961.425277375885 + (-3840.198941485953) * RemoteWork + (2416.02702517601) * YearsCodePro + (-7265.287548249706) * Gender + (856.0946937232989) * isBachelor + (8321.009382162212) * isMaster + (4236.5591187283935) * noDegree + (16748.729475095075) * hasPhD + (-7201.272122003399) * C_sharp + (-2116.711175671773) * JavaScript + (-3039.3517178685825) * SQL + (8063.578670339823) * TypeScript + (3354.8160657060757) * Bash_Shell + (-5928.301982507946) * HTML_CSS + (-2401.4576745651207) * C + (-9666.992584650727) * PHP + (3745.2196227195277) * Python + (1577.847143772224) * Java + (14010.41470523449) * Go + (2214.3448126222224) * C_pp + (-11020.70654680581) * age_18_24 + (-40372.20091623813) * age_55_64 + (-16194.686899944167) * age_45_54 + (-76711.719583775) * age_65_plus + (-7305.239570669622) * emp_100_499 + (-15229.755229952678) * emp_2_9 + (-10454.136687982464) * emp_20_99 + (5759.399134916847) * emp_10k_plus + (-4547.8350640293365) * emp_500_1k + (-11755.393365039226) * emp_10_19 + (34367.677181564) * UK + (90198.05361047796) * USA + (5654.208856455302) * Italy + (39298.38231411804) * Canada + (14549.278865148359) * Germany + (-3468.720424919426) * Poland + (16484.00795450339) * Netherlands + (3072.941093910715) * France + (10186.844471112829) * Spain + (-13979.859424953724) * India + (37399.076762829594) * Australia\n",
            "R-squared of the model: 0.4262818890142699\n",
            "Adjusted R-squared of the model: 0.4254761334425051\n",
            "Variable isBachelor with p-value 0.37671082202968287 > 0.05 is dropped from the model.\n",
            "\n",
            "Iteration #7. ConvertedCompYearly = 47652.74977458148 + (-3828.170454758049) * RemoteWork + (2412.9888979621405) * YearsCodePro + (-7235.435843971096) * Gender + (7654.3198309155605) * isMaster + (3597.996714513057) * noDegree + (16084.613967601494) * hasPhD + (-7196.675278870343) * C_sharp + (-2128.3378217569343) * JavaScript + (-3037.7778471246415) * SQL + (8066.840732848132) * TypeScript + (3347.5926872610066) * Bash_Shell + (-5937.293280388884) * HTML_CSS + (-2403.7497421210287) * C + (-9703.665094505071) * PHP + (3753.193182289586) * Python + (1604.6297051313768) * Java + (13985.596881480085) * Go + (2224.223818614601) * C_pp + (-11052.931227907673) * age_18_24 + (-40395.586140569816) * age_55_64 + (-16223.08307454251) * age_45_54 + (-76726.76662734695) * age_65_plus + (-7308.450686021496) * emp_100_499 + (-15268.931028416018) * emp_2_9 + (-10472.840677739514) * emp_20_99 + (5775.798967825727) * emp_10k_plus + (-4539.879528384434) * emp_500_1k + (-11770.98971115736) * emp_10_19 + (34395.82104140195) * UK + (90257.08063557636) * USA + (5548.751132945751) * Italy + (39341.35350387333) * Canada + (14522.03233715918) * Germany + (-3498.9561884680597) * Poland + (16504.253487133523) * Netherlands + (3077.9496676872113) * France + (10093.539883830648) * Spain + (-13863.430136476247) * India + (37463.0779707811) * Australia\n",
            "R-squared of the model: 0.4262661479226494\n",
            "Adjusted R-squared of the model: 0.42548054226886745\n",
            "Variable noDegree with p-value 0.26692972037714846 > 0.05 is dropped from the model.\n",
            "\n",
            "Iteration #8. ConvertedCompYearly = 47697.83375224103 + (-3824.80359600371) * RemoteWork + (2412.490435668003) * YearsCodePro + (-7234.882503067855) * Gender + (7601.221984674202) * isMaster + (16040.971308587947) * hasPhD + (-7184.551055928159) * C_sharp + (-2128.2441506293926) * JavaScript + (-3035.985563440258) * SQL + (8055.513346641684) * TypeScript + (3349.851603075443) * Bash_Shell + (-5931.117116023495) * HTML_CSS + (-2406.4642811087006) * C + (-9673.632194587926) * PHP + (3738.5036949460487) * Python + (1596.9415169622953) * Java + (13971.985263185763) * Go + (2215.937106861082) * C_pp + (-11016.538276645895) * age_18_24 + (-40379.80849338809) * age_55_64 + (-16212.402822984131) * age_45_54 + (-76720.16313897076) * age_65_plus + (-7309.241524170043) * emp_100_499 + (-15252.373215609652) * emp_2_9 + (-10471.975581094312) * emp_20_99 + (5774.7376466332325) * emp_10k_plus + (-4550.034075198141) * emp_500_1k + (-11755.339904475135) * emp_10_19 + (34382.317276733826) * UK + (90235.58582156907) * USA + (5541.8357216133245) * Italy + (39410.530747169636) * Canada + (14597.30262750161) * Germany + (-3467.4318914927103) * Poland + (16518.664019171334) * Netherlands + (3117.524367553596) * France + (10158.949339399636) * Spain + (-13891.07737858415) * India + (37455.04047958198) * Australia\n",
            "R-squared of the model: 0.4262413206605974\n",
            "Adjusted R-squared of the model: 0.4254758524930976\n",
            "Variable Poland with p-value 0.08382021478939587 > 0.05 is dropped from the model.\n",
            "\n",
            "Iteration #9. ConvertedCompYearly = 47392.49860228874 + (-3771.071718708303) * RemoteWork + (2413.889038627253) * YearsCodePro + (-7208.559966172775) * Gender + (7515.96845965017) * isMaster + (16043.694295103774) * hasPhD + (-7185.4311898862225) * C_sharp + (-2125.2856713224814) * JavaScript + (-3032.0884123586275) * SQL + (8052.410337556599) * TypeScript + (3328.565058850602) * Bash_Shell + (-5909.463355032587) * HTML_CSS + (-2404.3998218756783) * C + (-9653.167957708516) * PHP + (3744.344214697986) * Python + (1614.6098068313552) * Java + (13988.696543598042) * Go + (2191.9494140273346) * C_pp + (-11008.760226641427) * age_18_24 + (-40359.80002854533) * age_55_64 + (-16188.496741126492) * age_45_54 + (-76743.79019220149) * age_65_plus + (-7304.113928028613) * emp_100_499 + (-15201.338062654393) * emp_2_9 + (-10452.259517287586) * emp_20_99 + (5773.095640172819) * emp_10k_plus + (-4514.501055701195) * emp_500_1k + (-11690.617988007525) * emp_10_19 + (34622.27135485172) * UK + (90482.88773358936) * USA + (5776.0130204964635) * Italy + (39659.49623687882) * Canada + (14847.715113027236) * Germany + (16741.499213151343) * Netherlands + (3385.4698930183886) * France + (10404.607852277868) * Spain + (-13658.272480683177) * India + (37674.5248504524) * Australia\n",
            "R-squared of the model: 0.42618110177317414\n",
            "Adjusted R-squared of the model: 0.4254357254484167\n",
            "Variable France with p-value 0.05248362783699721 > 0.05 is dropped from the model.\n",
            "\n",
            "Iteration #10. ConvertedCompYearly = 47522.19604964325 + (-3735.6602439229328) * RemoteWork + (2413.631317854095) * YearsCodePro + (-7233.314295695078) * Gender + (7799.852537508527) * isMaster + (16239.76168999512) * hasPhD + (-7222.690291828822) * C_sharp + (-2115.2785410962993) * JavaScript + (-3042.895880891153) * SQL + (8075.4554557093725) * TypeScript + (3367.133505821547) * Bash_Shell + (-5880.74556829035) * HTML_CSS + (-2369.8598768830775) * C + (-9607.600992320184) * PHP + (3717.1414385845483) * Python + (1609.4143114123437) * Java + (13974.310185961587) * Go + (2205.4339593671343) * C_pp + (-10953.380885124167) * age_18_24 + (-40322.4931934897) * age_55_64 + (-16193.250405465698) * age_45_54 + (-76792.4792323494) * age_65_plus + (-7299.028430510267) * emp_100_499 + (-15190.14708662534) * emp_2_9 + (-10446.645715843168) * emp_20_99 + (5824.953969428021) * emp_10k_plus + (-4511.057037223453) * emp_500_1k + (-11692.573904663184) * emp_10_19 + (34351.519862857676) * UK + (90231.78764922865) * USA + (5470.108867320128) * Italy + (39423.96958096714) * Canada + (14525.120971865836) * Germany + (16454.41154948219) * Netherlands + (10122.475929829305) * Spain + (-13930.265248994863) * India + (37419.95599051172) * Australia\n"
          ]
        }
      ]
    },
    {
      "cell_type": "markdown",
      "source": [
        "After 10 iterations (9 excluded variables) we receive the final significant model without multicolinearity, that was in the beginning."
      ],
      "metadata": {
        "id": "lTsdPzYuBEbi"
      }
    },
    {
      "cell_type": "code",
      "source": [
        "print(final_model.summary())"
      ],
      "metadata": {
        "id": "eKQPneSYw7IF",
        "colab": {
          "base_uri": "https://localhost:8080/"
        },
        "outputId": "782d2ad0-48e4-421d-cb48-e7282cfb1c64"
      },
      "execution_count": 28,
      "outputs": [
        {
          "output_type": "stream",
          "name": "stdout",
          "text": [
            "                             OLS Regression Results                            \n",
            "===============================================================================\n",
            "Dep. Variable:     ConvertedCompYearly   R-squared:                       0.426\n",
            "Model:                             OLS   Adj. R-squared:                  0.425\n",
            "Method:                  Least Squares   F-statistic:                     587.5\n",
            "Date:                 Tue, 23 May 2023   Prob (F-statistic):               0.00\n",
            "Time:                         16:59:33   Log-Likelihood:            -3.5130e+05\n",
            "No. Observations:                28522   AIC:                         7.027e+05\n",
            "Df Residuals:                    28485   BIC:                         7.030e+05\n",
            "Df Model:                           36                                         \n",
            "Covariance Type:             nonrobust                                         \n",
            "================================================================================\n",
            "                   coef    std err          t      P>|t|      [0.025      0.975]\n",
            "--------------------------------------------------------------------------------\n",
            "Intercept     4.752e+04   1253.892     37.900      0.000    4.51e+04       5e+04\n",
            "RemoteWork   -3735.6602    493.271     -7.573      0.000   -4702.494   -2768.826\n",
            "YearsCodePro  2413.6313     62.373     38.697      0.000    2291.378    2535.885\n",
            "Gender       -7233.3143   1526.786     -4.738      0.000   -1.02e+04   -4240.742\n",
            "isMaster      7799.8525    744.014     10.483      0.000    6341.549    9258.156\n",
            "hasPhD        1.624e+04   1988.570      8.167      0.000    1.23e+04    2.01e+04\n",
            "C_sharp      -7222.6903    748.440     -9.650      0.000   -8689.668   -5755.712\n",
            "JavaScript   -2115.2785    871.782     -2.426      0.015   -3824.013    -406.544\n",
            "SQL          -3042.8959    698.819     -4.354      0.000   -4412.615   -1673.177\n",
            "TypeScript    8075.4555    726.473     11.116      0.000    6651.534    9499.377\n",
            "Bash_Shell    3367.1335    751.733      4.479      0.000    1893.702    4840.565\n",
            "HTML_CSS     -5880.7456    799.764     -7.353      0.000   -7448.320   -4313.171\n",
            "C            -2369.8599   1145.573     -2.069      0.039   -4615.237    -124.483\n",
            "PHP          -9607.6010    879.388    -10.925      0.000   -1.13e+04   -7883.958\n",
            "Python        3717.1414    703.720      5.282      0.000    2337.816    5096.467\n",
            "Java          1609.4143    713.385      2.256      0.024     211.147    3007.682\n",
            "Go            1.397e+04   1025.177     13.631      0.000     1.2e+04     1.6e+04\n",
            "C_pp          2205.4340   1033.189      2.135      0.033     180.335    4230.533\n",
            "age_18_24    -1.095e+04   1084.228    -10.102      0.000   -1.31e+04   -8828.242\n",
            "age_55_64    -4.032e+04   2417.920    -16.677      0.000   -4.51e+04   -3.56e+04\n",
            "age_45_54    -1.619e+04   1474.502    -10.982      0.000   -1.91e+04   -1.33e+04\n",
            "age_65_plus  -7.679e+04   5555.342    -13.823      0.000   -8.77e+04   -6.59e+04\n",
            "emp_100_499  -7299.0284   1021.390     -7.146      0.000   -9301.001   -5297.056\n",
            "emp_2_9      -1.519e+04   1321.864    -11.491      0.000   -1.78e+04   -1.26e+04\n",
            "emp_20_99    -1.045e+04   1005.760    -10.387      0.000   -1.24e+04   -8475.309\n",
            "emp_10k_plus  5824.9540   1127.225      5.168      0.000    3615.540    8034.368\n",
            "emp_500_1k   -4511.0570   1371.698     -3.289      0.001   -7199.650   -1822.464\n",
            "emp_10_19    -1.169e+04   1326.385     -8.815      0.000   -1.43e+04   -9092.796\n",
            "UK            3.435e+04   1334.895     25.733      0.000    3.17e+04     3.7e+04\n",
            "USA           9.023e+04    880.740    102.450      0.000    8.85e+04     9.2e+04\n",
            "Italy         5470.1089   2462.399      2.221      0.026     643.691    1.03e+04\n",
            "Canada        3.942e+04   1722.961     22.882      0.000     3.6e+04    4.28e+04\n",
            "Germany       1.453e+04   1312.570     11.066      0.000     1.2e+04    1.71e+04\n",
            "Netherlands   1.645e+04   2123.651      7.748      0.000    1.23e+04    2.06e+04\n",
            "Spain         1.012e+04   2084.931      4.855      0.000    6035.913    1.42e+04\n",
            "India        -1.393e+04   1355.818    -10.274      0.000   -1.66e+04   -1.13e+04\n",
            "Australia     3.742e+04   2271.772     16.472      0.000     3.3e+04    4.19e+04\n",
            "==============================================================================\n",
            "Omnibus:                    19158.799   Durbin-Watson:                   1.996\n",
            "Prob(Omnibus):                  0.000   Jarque-Bera (JB):           327902.583\n",
            "Skew:                           3.027   Prob(JB):                         0.00\n",
            "Kurtosis:                      18.468   Cond. No.                         220.\n",
            "==============================================================================\n",
            "\n",
            "Notes:\n",
            "[1] Standard Errors assume that the covariance matrix of the errors is correctly specified.\n"
          ]
        }
      ]
    },
    {
      "cell_type": "code",
      "source": [
        "intercept = [final_model.params[0]]\n",
        "vars_sorted_by_coeff = [i for i in final_model.params[1:].sort_values(ascending=False).index.to_list()]"
      ],
      "metadata": {
        "id": "QGNST1ap1a3p"
      },
      "execution_count": 29,
      "outputs": []
    },
    {
      "cell_type": "markdown",
      "source": [
        "Here is the interpretation of every independent variable in the final model."
      ],
      "metadata": {
        "id": "T4ooYirrBQ3T"
      }
    },
    {
      "cell_type": "code",
      "source": [
        "categorical_vars = vars_sorted_by_coeff.copy()\n",
        "categorical_vars.remove('YearsCodePro')\n",
        "interpret_results(vars_sorted_by_coeff, \n",
        "                  categorical_vars,\n",
        "                  intercept + final_model.params[1:].sort_values(ascending=False).reset_index()[0].tolist())"
      ],
      "metadata": {
        "colab": {
          "base_uri": "https://localhost:8080/"
        },
        "id": "rIwaXqFyfitC",
        "outputId": "7b4b22a8-9766-4d9a-a963-ec059272014a"
      },
      "execution_count": 30,
      "outputs": [
        {
          "output_type": "stream",
          "name": "stdout",
          "text": [
            "Interpretation of the model:\n",
            "\n",
            "Intercept of the model is 47522.19604964325\n",
            "If a person is USA (USA = 1), then on average yearly salary would increase by 90231.78764922865, keeping all other factors fixed.\n",
            "If a person is Canada (Canada = 1), then on average yearly salary would increase by 39423.96958096714, keeping all other factors fixed.\n",
            "If a person is Australia (Australia = 1), then on average yearly salary would increase by 37419.95599051172, keeping all other factors fixed.\n",
            "If a person is UK (UK = 1), then on average yearly salary would increase by 34351.519862857676, keeping all other factors fixed.\n",
            "If a person is Netherlands (Netherlands = 1), then on average yearly salary would increase by 16454.41154948219, keeping all other factors fixed.\n",
            "If a person is hasPhD (hasPhD = 1), then on average yearly salary would increase by 16239.76168999512, keeping all other factors fixed.\n",
            "If a person is Germany (Germany = 1), then on average yearly salary would increase by 14525.120971865836, keeping all other factors fixed.\n",
            "If a person is Go (Go = 1), then on average yearly salary would increase by 13974.310185961587, keeping all other factors fixed.\n",
            "If a person is Spain (Spain = 1), then on average yearly salary would increase by 10122.475929829305, keeping all other factors fixed.\n",
            "If a person is TypeScript (TypeScript = 1), then on average yearly salary would increase by 8075.4554557093725, keeping all other factors fixed.\n",
            "If a person is isMaster (isMaster = 1), then on average yearly salary would increase by 7799.852537508527, keeping all other factors fixed.\n",
            "If a person is emp_10k_plus (emp_10k_plus = 1), then on average yearly salary would increase by 5824.953969428021, keeping all other factors fixed.\n",
            "If a person is Italy (Italy = 1), then on average yearly salary would increase by 5470.108867320128, keeping all other factors fixed.\n",
            "If a person is Python (Python = 1), then on average yearly salary would increase by 3717.1414385845483, keeping all other factors fixed.\n",
            "If a person is Bash_Shell (Bash_Shell = 1), then on average yearly salary would increase by 3367.133505821547, keeping all other factors fixed.\n",
            "One unit increase in YearsCodePro, would on average change yearly salary by 2413.631317854095, keeping all other factors fixed.\n",
            "If a person is C_pp (C_pp = 1), then on average yearly salary would increase by 2205.4339593671343, keeping all other factors fixed.\n",
            "If a person is Java (Java = 1), then on average yearly salary would increase by 1609.4143114123437, keeping all other factors fixed.\n",
            "If a person is JavaScript (JavaScript = 1), then on average yearly salary would increase by -2115.2785410962993, keeping all other factors fixed.\n",
            "If a person is C (C = 1), then on average yearly salary would increase by -2369.8598768830775, keeping all other factors fixed.\n",
            "If a person is SQL (SQL = 1), then on average yearly salary would increase by -3042.895880891153, keeping all other factors fixed.\n",
            "If a person is RemoteWork (RemoteWork = 1), then on average yearly salary would increase by -3735.6602439229328, keeping all other factors fixed.\n",
            "If a person is emp_500_1k (emp_500_1k = 1), then on average yearly salary would increase by -4511.057037223453, keeping all other factors fixed.\n",
            "If a person is HTML_CSS (HTML_CSS = 1), then on average yearly salary would increase by -5880.74556829035, keeping all other factors fixed.\n",
            "If a person is C_sharp (C_sharp = 1), then on average yearly salary would increase by -7222.690291828822, keeping all other factors fixed.\n",
            "If a person is Gender (Gender = 1), then on average yearly salary would increase by -7233.314295695078, keeping all other factors fixed.\n",
            "If a person is emp_100_499 (emp_100_499 = 1), then on average yearly salary would increase by -7299.028430510267, keeping all other factors fixed.\n",
            "If a person is PHP (PHP = 1), then on average yearly salary would increase by -9607.600992320184, keeping all other factors fixed.\n",
            "If a person is emp_20_99 (emp_20_99 = 1), then on average yearly salary would increase by -10446.645715843168, keeping all other factors fixed.\n",
            "If a person is age_18_24 (age_18_24 = 1), then on average yearly salary would increase by -10953.380885124167, keeping all other factors fixed.\n",
            "If a person is emp_10_19 (emp_10_19 = 1), then on average yearly salary would increase by -11692.573904663184, keeping all other factors fixed.\n",
            "If a person is India (India = 1), then on average yearly salary would increase by -13930.265248994863, keeping all other factors fixed.\n",
            "If a person is emp_2_9 (emp_2_9 = 1), then on average yearly salary would increase by -15190.14708662534, keeping all other factors fixed.\n",
            "If a person is age_45_54 (age_45_54 = 1), then on average yearly salary would increase by -16193.250405465698, keeping all other factors fixed.\n",
            "If a person is age_55_64 (age_55_64 = 1), then on average yearly salary would increase by -40322.4931934897, keeping all other factors fixed.\n",
            "If a person is age_65_plus (age_65_plus = 1), then on average yearly salary would increase by -76792.4792323494, keeping all other factors fixed.\n"
          ]
        }
      ]
    },
    {
      "cell_type": "markdown",
      "source": [
        "Here is the equation of the final model."
      ],
      "metadata": {
        "id": "ThMkSWbtBaL0"
      }
    },
    {
      "cell_type": "code",
      "source": [
        "formula_model1 = formula_util(final_model,\n",
        "             final_model.params.reset_index()['index'][1:].to_list(),\n",
        "             \"ConvertedCompYearly\")\n",
        "\n",
        "print(formula_model1)"
      ],
      "metadata": {
        "colab": {
          "base_uri": "https://localhost:8080/"
        },
        "id": "t3OkwQG2frCw",
        "outputId": "23a3abca-3124-4bb1-84ab-c78a12df2798"
      },
      "execution_count": 31,
      "outputs": [
        {
          "output_type": "stream",
          "name": "stdout",
          "text": [
            "ConvertedCompYearly = 47522.19604964325 + (-3735.6602439229328) * RemoteWork + (2413.631317854095) * YearsCodePro + (-7233.314295695078) * Gender + (7799.852537508527) * isMaster + (16239.76168999512) * hasPhD + (-7222.690291828822) * C_sharp + (-2115.2785410962993) * JavaScript + (-3042.895880891153) * SQL + (8075.4554557093725) * TypeScript + (3367.133505821547) * Bash_Shell + (-5880.74556829035) * HTML_CSS + (-2369.8598768830775) * C + (-9607.600992320184) * PHP + (3717.1414385845483) * Python + (1609.4143114123437) * Java + (13974.310185961587) * Go + (2205.4339593671343) * C_pp + (-10953.380885124167) * age_18_24 + (-40322.4931934897) * age_55_64 + (-16193.250405465698) * age_45_54 + (-76792.4792323494) * age_65_plus + (-7299.028430510267) * emp_100_499 + (-15190.14708662534) * emp_2_9 + (-10446.645715843168) * emp_20_99 + (5824.953969428021) * emp_10k_plus + (-4511.057037223453) * emp_500_1k + (-11692.573904663184) * emp_10_19 + (34351.519862857676) * UK + (90231.78764922865) * USA + (5470.108867320128) * Italy + (39423.96958096714) * Canada + (14525.120971865836) * Germany + (16454.41154948219) * Netherlands + (10122.475929829305) * Spain + (-13930.265248994863) * India + (37419.95599051172) * Australia\n"
          ]
        }
      ]
    },
    {
      "cell_type": "markdown",
      "source": [
        "###**Prediction**"
      ],
      "metadata": {
        "id": "3vvMBlFKqli8"
      }
    },
    {
      "cell_type": "code",
      "source": [
        "X = df_for_modeling.iloc[:, 1:]\n",
        "y = df_for_modeling.iloc[:, 0]\n",
        "\n",
        "X_train, X_test, y_train, y_test = train_test_split(X, y, test_size=0.3, random_state=0)\n",
        "linreg = LinearRegression()\n",
        "linreg.fit(X_train, y_train)\n",
        "\n",
        "y_test_pred = linreg.predict(X_test)\n",
        "r2 = r2_score(y_test, y_test_pred)\n",
        "\n",
        "print(f\"Mean absolute error of linear regression model: {round(skm.mean_absolute_error(y_test, y_test_pred), 2)}\")\n",
        "print(\"R-squared:\", r2)"
      ],
      "metadata": {
        "colab": {
          "base_uri": "https://localhost:8080/"
        },
        "id": "3pEv0xGqAKTN",
        "outputId": "9d323193-2082-48f4-f4d7-58a866b4c9ba"
      },
      "execution_count": 32,
      "outputs": [
        {
          "output_type": "stream",
          "name": "stdout",
          "text": [
            "Mean absolute error of linear regression model: 33348.39\n",
            "R-squared: 0.4350709308710953\n"
          ]
        }
      ]
    },
    {
      "cell_type": "markdown",
      "source": [
        "As we can see the $R^2$ is 43.5%, which means that the predicted data is accurate in 43.5%. (the goodness depends on the situation)\n",
        "\n",
        "From the resulting value of MAE we can see, that the average absolute error is not very small = \\~33000 (as the mean value of salary in the dataset is \\~130000)"
      ],
      "metadata": {
        "id": "pacS7hSXDbNR"
      }
    },
    {
      "cell_type": "code",
      "source": [
        "plt.figure(figsize=(8, 8))\n",
        "\n",
        "ax1 = sns.distplot(df_for_modeling['ConvertedCompYearly'], hist=False, color=\"r\", label=\"Actual Value\")\n",
        "sns.distplot(y_test_pred, hist=False, color=\"b\", label=\"Fitted Values\" , ax=ax1)\n",
        "\n",
        "\n",
        "plt.title('Actual vs Fitted Values for Price')\n",
        "plt.xlabel('Yearly Salary')\n",
        "plt.ylabel('Proportion of Respondents')\n",
        "\n",
        "plt.show()\n",
        "plt.close()"
      ],
      "metadata": {
        "colab": {
          "base_uri": "https://localhost:8080/",
          "height": 1000
        },
        "id": "rbxBAiFvCeQ_",
        "outputId": "a9cca2ea-70c3-4baa-9f38-b02379e5c51a"
      },
      "execution_count": 33,
      "outputs": [
        {
          "output_type": "stream",
          "name": "stderr",
          "text": [
            "<ipython-input-33-48540f6427d0>:3: UserWarning:\n",
            "\n",
            "\n",
            "\n",
            "`distplot` is a deprecated function and will be removed in seaborn v0.14.0.\n",
            "\n",
            "Please adapt your code to use either `displot` (a figure-level function with\n",
            "similar flexibility) or `kdeplot` (an axes-level function for kernel density plots).\n",
            "\n",
            "For a guide to updating your code to use the new functions, please see\n",
            "https://gist.github.com/mwaskom/de44147ed2974457ad6372750bbe5751\n",
            "\n",
            "\n",
            "<ipython-input-33-48540f6427d0>:4: UserWarning:\n",
            "\n",
            "\n",
            "\n",
            "`distplot` is a deprecated function and will be removed in seaborn v0.14.0.\n",
            "\n",
            "Please adapt your code to use either `displot` (a figure-level function with\n",
            "similar flexibility) or `kdeplot` (an axes-level function for kernel density plots).\n",
            "\n",
            "For a guide to updating your code to use the new functions, please see\n",
            "https://gist.github.com/mwaskom/de44147ed2974457ad6372750bbe5751\n",
            "\n",
            "\n"
          ]
        },
        {
          "output_type": "display_data",
          "data": {
            "text/plain": [
              "<Figure size 800x800 with 1 Axes>"
            ],
            "image/png": "[encoded data removed]"
          },
          "metadata": {}
        }
      ]
    },
    {
      "cell_type": "markdown",
      "source": [
        "As we can see from this graph, the predicted data (blue color), has quite simular distribution as the original data.\n",
        "\n",
        "We can conclude that the fitted values are reasonably close to the actual values, since the two distributions overlap a bit. However, there is definitely some room for improvement."
      ],
      "metadata": {
        "id": "7lhLijYHGMKX"
      }
    },
    {
      "cell_type": "markdown",
      "source": [
        "##**Log-Level Model**"
      ],
      "metadata": {
        "id": "lOnO4-RCkTVl"
      }
    },
    {
      "cell_type": "markdown",
      "source": [
        "To perform Log-Level model we will logarithmize the dependent variable *ConvertedCompYearly*."
      ],
      "metadata": {
        "id": "H6L6rd1nIjPt"
      }
    },
    {
      "cell_type": "code",
      "source": [
        "df_survey_2022[\"lsalary\"] = np.log(df_survey_2022.ConvertedCompYearly)\n",
        "df_for_modeling[\"lsalary\"] = np.log(df_survey_2022.ConvertedCompYearly)"
      ],
      "metadata": {
        "id": "GTk2p9LtovVQ"
      },
      "execution_count": 34,
      "outputs": []
    },
    {
      "cell_type": "code",
      "source": [
        "selected_vars_2 = \" + \".join(df_for_modeling.columns.drop([\"ConvertedCompYearly\", \"lsalary\"]).to_list())\n",
        "\n",
        "# construc log-linear regression\n",
        "logl_model = smf.ols(formula = f'lsalary ~ {selected_vars_2}', data=df_survey_2022)\n",
        "logl_model = logl_model.fit()\n",
        "print(logl_model.summary())"
      ],
      "metadata": {
        "colab": {
          "base_uri": "https://localhost:8080/"
        },
        "id": "GAQ5RY8UfyKg",
        "outputId": "542eb0a7-b89f-41a3-c2f9-c8bdbf86a0bb"
      },
      "execution_count": 35,
      "outputs": [
        {
          "output_type": "stream",
          "name": "stdout",
          "text": [
            "                            OLS Regression Results                            \n",
            "==============================================================================\n",
            "Dep. Variable:                lsalary   R-squared:                       0.516\n",
            "Model:                            OLS   Adj. R-squared:                  0.515\n",
            "Method:                 Least Squares   F-statistic:                     675.2\n",
            "Date:                Tue, 23 May 2023   Prob (F-statistic):               0.00\n",
            "Time:                        16:59:36   Log-Likelihood:                -30102.\n",
            "No. Observations:               28522   AIC:                         6.030e+04\n",
            "Df Residuals:                   28476   BIC:                         6.068e+04\n",
            "Df Model:                          45                                         \n",
            "Covariance Type:            nonrobust                                         \n",
            "==================================================================================\n",
            "                     coef    std err          t      P>|t|      [0.025      0.975]\n",
            "----------------------------------------------------------------------------------\n",
            "Intercept          9.9661      0.403     24.718      0.000       9.176      10.756\n",
            "RemoteWork        -0.0934      0.006    -14.597      0.000      -0.106      -0.081\n",
            "YearsCodePro       0.0363      0.001     37.811      0.000       0.034       0.038\n",
            "Gender            -0.0707      0.020     -3.599      0.000      -0.109      -0.032\n",
            "isBachelor         0.0106      0.013      0.811      0.417      -0.015       0.036\n",
            "isMaster           0.1452      0.014     10.068      0.000       0.117       0.173\n",
            "noDegree           0.0366      0.043      0.853      0.394      -0.048       0.121\n",
            "isProfessional    -0.0822      0.033     -2.487      0.013      -0.147      -0.017\n",
            "hasPhD             0.1954      0.028      7.029      0.000       0.141       0.250\n",
            "C_sharp           -0.0644      0.010     -6.686      0.000      -0.083      -0.046\n",
            "JavaScript        -0.0458      0.011     -4.084      0.000      -0.068      -0.024\n",
            "SQL               -0.0233      0.009     -2.589      0.010      -0.041      -0.006\n",
            "TypeScript         0.1532      0.009     16.373      0.000       0.135       0.172\n",
            "Bash_Shell         0.0894      0.010      9.239      0.000       0.070       0.108\n",
            "HTML_CSS          -0.0808      0.010     -7.847      0.000      -0.101      -0.061\n",
            "C                 -0.0411      0.015     -2.787      0.005      -0.070      -0.012\n",
            "PHP               -0.2215      0.011    -19.509      0.000      -0.244      -0.199\n",
            "Python             0.0561      0.009      6.189      0.000       0.038       0.074\n",
            "Java              -0.0099      0.009     -1.074      0.283      -0.028       0.008\n",
            "Go                 0.1685      0.013     12.760      0.000       0.143       0.194\n",
            "C_pp               0.0017      0.013      0.130      0.897      -0.024       0.028\n",
            "age_35_44          0.2937      0.402      0.730      0.466      -0.495       1.083\n",
            "age_18_24         -0.0680      0.402     -0.169      0.866      -0.857       0.721\n",
            "age_25_34          0.2916      0.402      0.725      0.469      -0.497       1.080\n",
            "age_55_64         -0.2899      0.404     -0.718      0.473      -1.082       0.502\n",
            "age_45_54          0.0392      0.403      0.097      0.923      -0.751       0.829\n",
            "age_65_plus       -0.8147      0.409     -1.990      0.047      -1.617      -0.012\n",
            "emp_100_499        0.1035      0.024      4.256      0.000       0.056       0.151\n",
            "emp_2_9           -0.1471      0.026     -5.586      0.000      -0.199      -0.096\n",
            "emp_5k_10k         0.2195      0.030      7.363      0.000       0.161       0.278\n",
            "emp_1k_5k          0.1829      0.026      7.155      0.000       0.133       0.233\n",
            "emp_20_99          0.0273      0.024      1.132      0.258      -0.020       0.075\n",
            "emp_10k_plus       0.2366      0.025      9.368      0.000       0.187       0.286\n",
            "emp_500_1k         0.1409      0.027      5.210      0.000       0.088       0.194\n",
            "emp_10_19         -0.0464      0.027     -1.747      0.081      -0.098       0.006\n",
            "UK                 0.6734      0.017     38.762      0.000       0.639       0.707\n",
            "USA                1.1555      0.012     98.747      0.000       1.133       1.178\n",
            "Italy              0.1571      0.032      4.935      0.000       0.095       0.219\n",
            "Canada             0.7670      0.022     34.337      0.000       0.723       0.811\n",
            "Germany            0.5288      0.017     30.836      0.000       0.495       0.562\n",
            "Poland             0.1453      0.026      5.629      0.000       0.095       0.196\n",
            "Netherlands        0.5384      0.027     19.621      0.000       0.485       0.592\n",
            "France             0.3182      0.023     14.097      0.000       0.274       0.362\n",
            "Spain              0.2578      0.027      9.495      0.000       0.205       0.311\n",
            "India             -0.5670      0.018    -31.967      0.000      -0.602      -0.532\n",
            "Australia          0.7879      0.029     26.855      0.000       0.730       0.845\n",
            "==============================================================================\n",
            "Omnibus:                     3927.806   Durbin-Watson:                   1.985\n",
            "Prob(Omnibus):                  0.000   Jarque-Bera (JB):            23197.548\n",
            "Skew:                          -0.524   Prob(JB):                         0.00\n",
            "Kurtosis:                       7.292   Cond. No.                     3.26e+03\n",
            "==============================================================================\n",
            "\n",
            "Notes:\n",
            "[1] Standard Errors assume that the covariance matrix of the errors is correctly specified.\n",
            "[2] The condition number is large, 3.26e+03. This might indicate that there are\n",
            "strong multicollinearity or other numerical problems.\n"
          ]
        }
      ]
    },
    {
      "cell_type": "markdown",
      "source": [
        "As we can see, some of the dependent variables are statistically insignificant, so we will exclude them one-by-one by the highest p-value. But in comparicing to linear model, the number of significant variables are a bit smaller.\n",
        "\n",
        "And there are strong multicollinearity too.\n",
        "\n",
        "Let's see if we can get rid of those problems, with backward elimination method and how many iteration of elimination should we perform."
      ],
      "metadata": {
        "id": "d9BQMSbvIpDB"
      }
    },
    {
      "cell_type": "code",
      "source": [
        "selected_vars = df_for_modeling.columns.drop([\"ConvertedCompYearly\", \"lsalary\"]).to_list()\n",
        "\n",
        "iteration_no = 1\n",
        "repeat, selected_vars, logl_model_fin = backward_elimination(significance_level, 'lsalary', selected_vars, iteration_no)\n",
        "\n",
        "while repeat:\n",
        "  iteration_no += 1\n",
        "  # print(selected_vars)\n",
        "  repeat, selected_vars, logl_model_fin = backward_elimination(significance_level, 'lsalary', selected_vars, iteration_no)"
      ],
      "metadata": {
        "colab": {
          "base_uri": "https://localhost:8080/"
        },
        "id": "VHo2V7g7kzco",
        "outputId": "49e73df2-246c-490d-9512-4aabf1e66a0d"
      },
      "execution_count": 36,
      "outputs": [
        {
          "output_type": "stream",
          "name": "stdout",
          "text": [
            "Iteration #1. lsalary = 9.96610828521872 + (-0.09339526108727554) * RemoteWork + (0.036314858286942316) * YearsCodePro + (-0.07071342679080046) * Gender + (0.01062265642273438) * isBachelor + (0.14516644476194682) * isMaster + (0.03660552367185533) * noDegree + (-0.0821741598434255) * isProfessional + (0.1954174144557974) * hasPhD + (-0.06441032190560711) * C_sharp + (-0.04582777538152298) * JavaScript + (-0.023270550779550224) * SQL + (0.15324225119154353) * TypeScript + (0.08942083957994158) * Bash_Shell + (-0.08079620522386242) * HTML_CSS + (-0.0410824818775065) * C + (-0.22146626867822547) * PHP + (0.056087937873319976) * Python + (-0.009873297530684631) * Java + (0.16847870012034383) * Go + (0.0017242971306244202) * C_pp + (0.2937257616943479) * age_35_44 + (-0.06804209225299085) * age_18_24 + (0.2916065804927386) * age_25_34 + (-0.289880172908873) * age_55_64 + (0.039193340079594026) * age_45_54 + (-0.8147392679201415) * age_65_plus + (0.10349161653896355) * emp_100_499 + (-0.14712846534890608) * emp_2_9 + (0.2195364994251272) * emp_5k_10k + (0.18290076195296093) * emp_1k_5k + (0.02734272271788179) * emp_20_99 + (0.23663746819974574) * emp_10k_plus + (0.14093282465337156) * emp_500_1k + (-0.04635470775898697) * emp_10_19 + (0.6733889265899655) * UK + (1.1554745482753006) * USA + (0.15709253629810194) * Italy + (0.7670046464049466) * Canada + (0.5288229824819433) * Germany + (0.1453323566848595) * Poland + (0.538355358704599) * Netherlands + (0.3181586344674782) * France + (0.2577530628862955) * Spain + (-0.5669950831200055) * India + (0.7878698756721927) * Australia\n",
            "R-squared of the model: 0.5162000520322951\n",
            "Adjusted R-squared of the model: 0.5154355135557342\n",
            "Variable age_45_54 with p-value 0.9225243240291182 > 0.05 is dropped from the model.\n",
            "\n",
            "Iteration #2. lsalary = 10.005157590611516 + (-0.09339627599204947) * RemoteWork + (0.036319289550527864) * YearsCodePro + (-0.07070950893756868) * Gender + (0.010645820367572455) * isBachelor + (0.14518725938690086) * isMaster + (0.03662892399927428) * noDegree + (-0.0821481897510496) * isProfessional + (0.19544811719682437) * hasPhD + (-0.06442377181227565) * C_sharp + (-0.045829586059745596) * JavaScript + (-0.023265626985357626) * SQL + (0.1532434779909937) * TypeScript + (0.08941313147207673) * Bash_Shell + (-0.0808017559663975) * HTML_CSS + (-0.041074264559886546) * C + (-0.22147680065687306) * PHP + (0.05607839784173802) * Python + (-0.009889027723924037) * Java + (0.1684674782422307) * Go + (0.0017096352981216686) * C_pp + (0.25462557748907416) * age_35_44 + (-0.10708215943630169) * age_18_24 + (0.25254192864859565) * age_25_34 + (-0.32906304770635847) * age_55_64 + (-0.8539609947350114) * age_65_plus + (0.10348298529740296) * emp_100_499 + (-0.1471443651922676) * emp_2_9 + (0.21953606979646736) * emp_5k_10k + (0.18289960790969798) * emp_1k_5k + (0.027341311242347528) * emp_20_99 + (0.23663945562466737) * emp_10k_plus + (0.14093268495667757) * emp_500_1k + (-0.04637231072517547) * emp_10_19 + (0.6733872068461051) * UK + (1.1554754981012099) * USA + (0.1571010368601362) * Italy + (0.7670053582087009) * Canada + (0.5288261304871121) * Germany + (0.14527920903671018) * Poland + (0.5383534965087167) * Netherlands + (0.3181573969630454) * France + (0.25775525500911023) * Spain + (-0.5670457646432995) * India + (0.7878685412677902) * Australia\n",
            "R-squared of the model: 0.5161998913331598\n",
            "Adjusted R-squared of the model: 0.5154523686031902\n",
            "Variable C_pp with p-value 0.8976787247989355 > 0.05 is dropped from the model.\n",
            "\n",
            "Iteration #3. lsalary = 10.00516068793496 + (-0.09334287345372329) * RemoteWork + (0.03632207150505291) * YearsCodePro + (-0.07077138017647798) * Gender + (0.010665996327654437) * isBachelor + (0.14525304424300914) * isMaster + (0.03660636998860092) * noDegree + (-0.08212233669213478) * isProfessional + (0.19567563892385795) * hasPhD + (-0.06429973157021138) * C_sharp + (-0.04587487462313882) * JavaScript + (-0.023331441978771086) * SQL + (0.15321210667959131) * TypeScript + (0.08944059232450909) * Bash_Shell + (-0.08082232219087816) * HTML_CSS + (-0.040166512809112105) * C + (-0.22142374305780685) * PHP + (0.05620731123389931) * Python + (-0.009856803395539553) * Java + (0.168477856854453) * Go + (0.2546546891637771) * age_35_44 + (-0.10694583569413266) * age_18_24 + (0.25260352212819204) * age_25_34 + (-0.32900534897495937) * age_55_64 + (-0.8539247396573485) * age_65_plus + (0.1034529814131389) * emp_100_499 + (-0.14717102207755706) * emp_2_9 + (0.21949591387093437) * emp_5k_10k + (0.1828656193878257) * emp_1k_5k + (0.02730652271777545) * emp_20_99 + (0.23664692582978902) * emp_10k_plus + (0.14089891514587158) * emp_500_1k + (-0.0463986445508941) * emp_10_19 + (0.6733772295558971) * UK + (1.1555050131078983) * USA + (0.1571262126495739) * Italy + (0.7670444213571025) * Canada + (0.5288621695368361) * Germany + (0.14532481007702974) * Poland + (0.5383274308719537) * Netherlands + (0.31817804850368764) * France + (0.2577161209846222) * Spain + (-0.567049864957092) * India + (0.7878212968730068) * Australia\n",
            "R-squared of the model: 0.5161996103873845\n",
            "Adjusted R-squared of the model: 0.5154691020387173\n",
            "Variable isBachelor with p-value 0.4150783958467845 > 0.05 is dropped from the model.\n",
            "\n",
            "Iteration #4. lsalary = 10.013113860200502 + (-0.09321382949128272) * RemoteWork + (0.03629659783558319) * YearsCodePro + (-0.07041204482431854) * Gender + (0.13669444023317812) * isMaster + (0.02834568297929634) * noDegree + (-0.09030255586493366) * isProfessional + (0.1871954320398752) * hasPhD + (-0.06424613840235222) * C_sharp + (-0.04604970090633045) * JavaScript + (-0.02329135931633053) * SQL + (0.15321606262935655) * TypeScript + (0.08931968271436688) * Bash_Shell + (-0.08092879895639397) * HTML_CSS + (-0.04013100388356445) * C + (-0.2218165970532944) * PHP + (0.05630982213185983) * Python + (-0.009535596050201411) * Java + (0.1681718497020128) * Go + (0.25486997505840775) * age_35_44 + (-0.10692626222248539) * age_18_24 + (0.25302497593882983) * age_25_34 + (-0.32897904505310976) * age_55_64 + (-0.853977091770571) * age_65_plus + (0.1039287801872931) * emp_100_499 + (-0.14709533618426865) * emp_2_9 + (0.22019109330099307) * emp_5k_10k + (0.18349682758424993) * emp_1k_5k + (0.02758382756602778) * emp_20_99 + (0.23735923989265187) * emp_10k_plus + (0.14150651687978996) * emp_500_1k + (-0.046086813441389846) * emp_10_19 + (0.6735368126753073) * UK + (1.1560375929728086) * USA + (0.15585620291751198) * Italy + (0.7674164589589756) * Canada + (0.5285355215168065) * Germany + (0.14487800196012204) * Poland + (0.5384394133254704) * Netherlands + (0.3183803851967512) * France + (0.2573273782333624) * Spain + (-0.5657932088363449) * India + (0.7883944643926212) * Australia\n",
            "R-squared of the model: 0.5161883261216618\n",
            "Adjusted R-squared of the model: 0.5154748147517789\n",
            "Variable noDegree with p-value 0.49667450732093876 > 0.05 is dropped from the model.\n",
            "\n",
            "Iteration #5. lsalary = 10.013610253319055 + (-0.09318940619301408) * RemoteWork + (0.03629184513070868) * YearsCodePro + (-0.0704065489181479) * Gender + (0.13625394655748618) * isMaster + (-0.09090372567294358) * isProfessional + (0.1868203605857141) * hasPhD + (-0.06415564219392392) * C_sharp + (-0.046050290229290795) * JavaScript + (-0.02327313398175379) * SQL + (0.1531273069419001) * TypeScript + (0.08933439144257276) * Bash_Shell + (-0.08087958447088438) * HTML_CSS + (-0.04018659840180564) * C + (-0.22157930976260284) * PHP + (0.05619009873584466) * Python + (-0.009596931117428355) * Java + (0.1680663519928653) * Go + (0.2547767989208434) * age_35_44 + (-0.1067578227941938) * age_18_24 + (0.25290985944929023) * age_25_34 + (-0.32893208089954296) * age_55_64 + (-0.8540063284520738) * age_65_plus + (0.10391475860838605) * emp_100_499 + (-0.14696791349803617) * emp_2_9 + (0.220166667393757) * emp_5k_10k + (0.18349521571733549) * emp_1k_5k + (0.02758287966588101) * emp_20_99 + (0.23734063551743145) * emp_10k_plus + (0.14141804800949723) * emp_500_1k + (-0.04597130696798876) * emp_10_19 + (0.6734175731851518) * UK + (1.1558530301257017) * USA + (0.1558005474647126) * Italy + (0.7679480480639055) * Canada + (0.5291264300713722) * Germany + (0.14512167996029104) * Poland + (0.5385431627350383) * Netherlands + (0.31870083274597705) * France + (0.2578997085876247) * Spain + (-0.566021273568853) * India + (0.7883172445309888) * Australia\n",
            "R-squared of the model: 0.5161804767027593\n",
            "Adjusted R-squared of the model: 0.5154839668553161\n",
            "Variable Java with p-value 0.29597190758774244 > 0.05 is dropped from the model.\n",
            "\n",
            "Iteration #6. lsalary = 10.012636774258445 + (-0.09333298931772258) * RemoteWork + (0.03626414506989404) * YearsCodePro + (-0.07014656364219457) * Gender + (0.13604216646052258) * isMaster + (-0.09093261218516291) * isProfessional + (0.18738880126227125) * hasPhD + (-0.06331418627275949) * C_sharp + (-0.04637407531033177) * JavaScript + (-0.024404194710014343) * SQL + (0.15293754252893627) * TypeScript + (0.08879907179450756) * Bash_Shell + (-0.08050198955465554) * HTML_CSS + (-0.04128049053504586) * C + (-0.2214789197691165) * PHP + (0.056160751305375775) * Python + (0.16773437781730047) * Go + (0.2544672502639356) * age_35_44 + (-0.10805239015273474) * age_18_24 + (0.2523346348064543) * age_25_34 + (-0.3283204033987008) * age_55_64 + (-0.8534741948280057) * age_65_plus + (0.10347884943750203) * emp_100_499 + (-0.14678676680393826) * emp_2_9 + (0.21889764766064512) * emp_5k_10k + (0.18252528688085337) * emp_1k_5k + (0.027509732618322576) * emp_20_99 + (0.2357816133976672) * emp_10k_plus + (0.14070375608893168) * emp_500_1k + (-0.046000292614029555) * emp_10_19 + (0.6742673973976959) * UK + (1.1564483425765293) * USA + (0.1552366413787215) * Italy + (0.7685130482373809) * Canada + (0.5286895277200693) * Germany + (0.14553200337987107) * Poland + (0.538882205926653) * Netherlands + (0.31879383534506534) * France + (0.25746545039525853) * Spain + (-0.5662918819039933) * India + (0.7894455731854804) * Australia\n",
            "R-squared of the model: 0.5161619207281988\n",
            "Adjusted R-squared of the model: 0.5154823967237441\n",
            "Variable emp_20_99 with p-value 0.25482792417694755 > 0.05 is dropped from the model.\n",
            "\n",
            "Iteration #7. lsalary = 10.035912501933542 + (-0.0925355255701672) * RemoteWork + (0.03620576837111127) * YearsCodePro + (-0.0699966922563749) * Gender + (0.13601888418430014) * isMaster + (-0.09147814829815172) * isProfessional + (0.18711651001386503) * hasPhD + (-0.06330880733952439) * C_sharp + (-0.04653740135121775) * JavaScript + (-0.02434195683762854) * SQL + (0.15325436227668404) * TypeScript + (0.0890260030215446) * Bash_Shell + (-0.08076598772298639) * HTML_CSS + (-0.041594457980386766) * C + (-0.22199513341992888) * PHP + (0.05615512336645101) * Python + (0.16795572481921253) * Go + (0.25489663472620533) * age_35_44 + (-0.1076517606993786) * age_18_24 + (0.2529139834562683) * age_25_34 + (-0.32867851025968065) * age_55_64 + (-0.8559621529312993) * age_65_plus + (0.0797132705723732) * emp_100_499 + (-0.17031555649136274) * emp_2_9 + (0.19510232688640672) * emp_5k_10k + (0.15870211416225488) * emp_1k_5k + (0.21194316516256645) * emp_10k_plus + (0.11692642800479183) * emp_500_1k + (-0.0697571637779858) * emp_10_19 + (0.674388043091231) * UK + (1.1571713772127439) * USA + (0.15479894236639835) * Italy + (0.7691730505036662) * Canada + (0.5288131271204765) * Germany + (0.14587349724391943) * Poland + (0.5385663377443994) * Netherlands + (0.31823366418892163) * France + (0.2581891581623347) * Spain + (-0.5661683554028615) * India + (0.7895611409669531) * Australia\n"
          ]
        }
      ]
    },
    {
      "cell_type": "markdown",
      "source": [
        "After 7 iterations (6 excluded variables) we receive the final significant model without multicolinearity, that was in the beginning.\n",
        "\n",
        "As expected , the number of excluded variables is smaller as in linear model, which means, that the Log-Level fits data a bit better."
      ],
      "metadata": {
        "id": "8RWLyio6IvX9"
      }
    },
    {
      "cell_type": "code",
      "source": [
        "# display final log-linear model\n",
        "print(logl_model_fin.summary())"
      ],
      "metadata": {
        "id": "j674eCJTn46D",
        "colab": {
          "base_uri": "https://localhost:8080/"
        },
        "outputId": "dac498b6-7e1f-42fb-b0a3-927ec84235ae"
      },
      "execution_count": 37,
      "outputs": [
        {
          "output_type": "stream",
          "name": "stdout",
          "text": [
            "                            OLS Regression Results                            \n",
            "==============================================================================\n",
            "Dep. Variable:                lsalary   R-squared:                       0.516\n",
            "Model:                            OLS   Adj. R-squared:                  0.515\n",
            "Method:                 Least Squares   F-statistic:                     779.0\n",
            "Date:                Tue, 23 May 2023   Prob (F-statistic):               0.00\n",
            "Time:                        16:59:40   Log-Likelihood:                -30104.\n",
            "No. Observations:               28522   AIC:                         6.029e+04\n",
            "Df Residuals:                   28482   BIC:                         6.062e+04\n",
            "Df Model:                          39                                         \n",
            "Covariance Type:            nonrobust                                         \n",
            "==================================================================================\n",
            "                     coef    std err          t      P>|t|      [0.025      0.975]\n",
            "----------------------------------------------------------------------------------\n",
            "Intercept         10.0359      0.029    345.713      0.000       9.979      10.093\n",
            "RemoteWork        -0.0925      0.006    -14.590      0.000      -0.105      -0.080\n",
            "YearsCodePro       0.0362      0.001     37.840      0.000       0.034       0.038\n",
            "Gender            -0.0700      0.020     -3.565      0.000      -0.108      -0.032\n",
            "isMaster           0.1360      0.010     13.824      0.000       0.117       0.155\n",
            "isProfessional    -0.0915      0.031     -2.908      0.004      -0.153      -0.030\n",
            "hasPhD             0.1871      0.026      7.280      0.000       0.137       0.237\n",
            "C_sharp           -0.0633      0.010     -6.630      0.000      -0.082      -0.045\n",
            "JavaScript        -0.0465      0.011     -4.152      0.000      -0.069      -0.025\n",
            "SQL               -0.0243      0.009     -2.732      0.006      -0.042      -0.007\n",
            "TypeScript         0.1533      0.009     16.393      0.000       0.135       0.172\n",
            "Bash_Shell         0.0890      0.010      9.217      0.000       0.070       0.108\n",
            "HTML_CSS          -0.0808      0.010     -7.854      0.000      -0.101      -0.061\n",
            "C                 -0.0416      0.013     -3.226      0.001      -0.067      -0.016\n",
            "PHP               -0.2220      0.011    -19.613      0.000      -0.244      -0.200\n",
            "Python             0.0562      0.009      6.237      0.000       0.039       0.074\n",
            "Go                 0.1680      0.013     12.732      0.000       0.142       0.194\n",
            "age_35_44          0.2549      0.019     13.450      0.000       0.218       0.292\n",
            "age_18_24         -0.1077      0.027     -3.943      0.000      -0.161      -0.054\n",
            "age_25_34          0.2529      0.022     11.342      0.000       0.209       0.297\n",
            "age_55_64         -0.3287      0.030    -10.997      0.000      -0.387      -0.270\n",
            "age_65_plus       -0.8560      0.070    -12.179      0.000      -0.994      -0.718\n",
            "emp_100_499        0.0797      0.012      6.402      0.000       0.055       0.104\n",
            "emp_2_9           -0.1703      0.016    -10.433      0.000      -0.202      -0.138\n",
            "emp_5k_10k         0.1951      0.021      9.198      0.000       0.154       0.237\n",
            "emp_1k_5k          0.1587      0.015     10.846      0.000       0.130       0.187\n",
            "emp_10k_plus       0.2119      0.014     15.111      0.000       0.184       0.239\n",
            "emp_500_1k         0.1169      0.017      6.811      0.000       0.083       0.151\n",
            "emp_10_19         -0.0698      0.016     -4.260      0.000      -0.102      -0.038\n",
            "UK                 0.6744      0.017     38.869      0.000       0.640       0.708\n",
            "USA                1.1572      0.012     99.362      0.000       1.134       1.180\n",
            "Italy              0.1548      0.032      4.870      0.000       0.092       0.217\n",
            "Canada             0.7692      0.022     34.489      0.000       0.725       0.813\n",
            "Germany            0.5288      0.017     30.899      0.000       0.495       0.562\n",
            "Poland             0.1459      0.026      5.654      0.000       0.095       0.196\n",
            "Netherlands        0.5386      0.027     19.633      0.000       0.485       0.592\n",
            "France             0.3182      0.023     14.109      0.000       0.274       0.362\n",
            "Spain              0.2582      0.027      9.522      0.000       0.205       0.311\n",
            "India             -0.5662      0.018    -32.067      0.000      -0.601      -0.532\n",
            "Australia          0.7896      0.029     26.943      0.000       0.732       0.847\n",
            "==============================================================================\n",
            "Omnibus:                     3934.743   Durbin-Watson:                   1.985\n",
            "Prob(Omnibus):                  0.000   Jarque-Bera (JB):            23194.543\n",
            "Skew:                          -0.526   Prob(JB):                         0.00\n",
            "Kurtosis:                       7.291   Cond. No.                         216.\n",
            "==============================================================================\n",
            "\n",
            "Notes:\n",
            "[1] Standard Errors assume that the covariance matrix of the errors is correctly specified.\n"
          ]
        }
      ]
    },
    {
      "cell_type": "code",
      "source": [
        "intercept = [logl_model_fin.params[0]]\n",
        "vars_sorted_by_coeff_log = [i for i in logl_model_fin.params[1:].sort_values(ascending=False).index.to_list()]"
      ],
      "metadata": {
        "id": "TXhgwvBfrQ-U"
      },
      "execution_count": 38,
      "outputs": []
    },
    {
      "cell_type": "markdown",
      "source": [
        "Here is the interpretation of every dependent variable in the final model."
      ],
      "metadata": {
        "id": "tl0hvHayIzZi"
      }
    },
    {
      "cell_type": "code",
      "source": [
        "categorical_vars = vars_sorted_by_coeff_log.copy()\n",
        "categorical_vars.remove(\"YearsCodePro\")\n",
        "interpret_results(vars_sorted_by_coeff_log, categorical_vars, intercept + logl_model_fin.params[1:].sort_values(ascending=False).reset_index()[0].to_list(), logM=True)"
      ],
      "metadata": {
        "id": "oxq5Ue1YqcBw",
        "colab": {
          "base_uri": "https://localhost:8080/"
        },
        "outputId": "69d62a42-ae4d-4aa7-c6de-15917a36473a"
      },
      "execution_count": 39,
      "outputs": [
        {
          "output_type": "stream",
          "name": "stdout",
          "text": [
            "Interpretation of the model:\n",
            "\n",
            "Intercept of the model is 10.035912501933542\n",
            "If USA = 1, then on average yearly salary would increase by 115.71713772127438 %, keeping all other factors fixed.\n",
            "If Australia = 1, then on average yearly salary would increase by 78.9561140966953 %, keeping all other factors fixed.\n",
            "If Canada = 1, then on average yearly salary would increase by 76.91730505036662 %, keeping all other factors fixed.\n",
            "If UK = 1, then on average yearly salary would increase by 67.4388043091231 %, keeping all other factors fixed.\n",
            "If Netherlands = 1, then on average yearly salary would increase by 53.85663377443994 %, keeping all other factors fixed.\n",
            "If Germany = 1, then on average yearly salary would increase by 52.881312712047645 %, keeping all other factors fixed.\n",
            "If France = 1, then on average yearly salary would increase by 31.823366418892164 %, keeping all other factors fixed.\n",
            "If Spain = 1, then on average yearly salary would increase by 25.818915816233467 %, keeping all other factors fixed.\n",
            "If age_35_44 = 1, then on average yearly salary would increase by 25.48966347262053 %, keeping all other factors fixed.\n",
            "If age_25_34 = 1, then on average yearly salary would increase by 25.29139834562683 %, keeping all other factors fixed.\n",
            "If emp_10k_plus = 1, then on average yearly salary would increase by 21.194316516256645 %, keeping all other factors fixed.\n",
            "If emp_5k_10k = 1, then on average yearly salary would increase by 19.51023268864067 %, keeping all other factors fixed.\n",
            "If hasPhD = 1, then on average yearly salary would increase by 18.711651001386503 %, keeping all other factors fixed.\n",
            "If Go = 1, then on average yearly salary would increase by 16.795572481921255 %, keeping all other factors fixed.\n",
            "If emp_1k_5k = 1, then on average yearly salary would increase by 15.870211416225487 %, keeping all other factors fixed.\n",
            "If Italy = 1, then on average yearly salary would increase by 15.479894236639835 %, keeping all other factors fixed.\n",
            "If TypeScript = 1, then on average yearly salary would increase by 15.325436227668405 %, keeping all other factors fixed.\n",
            "If Poland = 1, then on average yearly salary would increase by 14.587349724391943 %, keeping all other factors fixed.\n",
            "If isMaster = 1, then on average yearly salary would increase by 13.601888418430013 %, keeping all other factors fixed.\n",
            "If emp_500_1k = 1, then on average yearly salary would increase by 11.692642800479183 %, keeping all other factors fixed.\n",
            "If Bash_Shell = 1, then on average yearly salary would increase by 8.902600302154461 %, keeping all other factors fixed.\n",
            "If emp_100_499 = 1, then on average yearly salary would increase by 7.971327057237319 %, keeping all other factors fixed.\n",
            "If Python = 1, then on average yearly salary would increase by 5.615512336645101 %, keeping all other factors fixed.\n",
            "One unit increase in YearsCodePro, would on average change yearly salary by 3.6205768371111273 %, keeping all other factors fixed.\n",
            "If SQL = 1, then on average yearly salary would increase by -2.4341956837628542 %, keeping all other factors fixed.\n",
            "If C = 1, then on average yearly salary would increase by -4.159445798038677 %, keeping all other factors fixed.\n",
            "If JavaScript = 1, then on average yearly salary would increase by -4.653740135121775 %, keeping all other factors fixed.\n",
            "If C_sharp = 1, then on average yearly salary would increase by -6.330880733952439 %, keeping all other factors fixed.\n",
            "If emp_10_19 = 1, then on average yearly salary would increase by -6.97571637779858 %, keeping all other factors fixed.\n",
            "If Gender = 1, then on average yearly salary would increase by -6.999669225637491 %, keeping all other factors fixed.\n",
            "If HTML_CSS = 1, then on average yearly salary would increase by -8.07659877229864 %, keeping all other factors fixed.\n",
            "If isProfessional = 1, then on average yearly salary would increase by -9.147814829815172 %, keeping all other factors fixed.\n",
            "If RemoteWork = 1, then on average yearly salary would increase by -9.25355255701672 %, keeping all other factors fixed.\n",
            "If age_18_24 = 1, then on average yearly salary would increase by -10.76517606993786 %, keeping all other factors fixed.\n",
            "If emp_2_9 = 1, then on average yearly salary would increase by -17.031555649136273 %, keeping all other factors fixed.\n",
            "If PHP = 1, then on average yearly salary would increase by -22.199513341992887 %, keeping all other factors fixed.\n",
            "If age_55_64 = 1, then on average yearly salary would increase by -32.867851025968065 %, keeping all other factors fixed.\n",
            "If India = 1, then on average yearly salary would increase by -56.61683554028615 %, keeping all other factors fixed.\n",
            "If age_65_plus = 1, then on average yearly salary would increase by -85.59621529312993 %, keeping all other factors fixed.\n"
          ]
        }
      ]
    },
    {
      "cell_type": "markdown",
      "source": [
        "Here is the equation of the final model."
      ],
      "metadata": {
        "id": "ACYoAQ_xI36r"
      }
    },
    {
      "cell_type": "code",
      "source": [
        "formula_log_model_formula = formula_util(logl_model_fin,\n",
        "             logl_model_fin.params.reset_index()['index'][1:].to_list(),\n",
        "             \"lsalary\")\n",
        "\n",
        "print(formula_log_model_formula)"
      ],
      "metadata": {
        "id": "NpgE3N8XI4ua",
        "colab": {
          "base_uri": "https://localhost:8080/"
        },
        "outputId": "5755d60d-79a0-4c53-9b5d-7b82bfe26f30"
      },
      "execution_count": 40,
      "outputs": [
        {
          "output_type": "stream",
          "name": "stdout",
          "text": [
            "lsalary = 10.035912501933542 + (-0.0925355255701672) * RemoteWork + (0.03620576837111127) * YearsCodePro + (-0.0699966922563749) * Gender + (0.13601888418430014) * isMaster + (-0.09147814829815172) * isProfessional + (0.18711651001386503) * hasPhD + (-0.06330880733952439) * C_sharp + (-0.04653740135121775) * JavaScript + (-0.02434195683762854) * SQL + (0.15325436227668404) * TypeScript + (0.0890260030215446) * Bash_Shell + (-0.08076598772298639) * HTML_CSS + (-0.041594457980386766) * C + (-0.22199513341992888) * PHP + (0.05615512336645101) * Python + (0.16795572481921253) * Go + (0.25489663472620533) * age_35_44 + (-0.1076517606993786) * age_18_24 + (0.2529139834562683) * age_25_34 + (-0.32867851025968065) * age_55_64 + (-0.8559621529312993) * age_65_plus + (0.0797132705723732) * emp_100_499 + (-0.17031555649136274) * emp_2_9 + (0.19510232688640672) * emp_5k_10k + (0.15870211416225488) * emp_1k_5k + (0.21194316516256645) * emp_10k_plus + (0.11692642800479183) * emp_500_1k + (-0.0697571637779858) * emp_10_19 + (0.674388043091231) * UK + (1.1571713772127439) * USA + (0.15479894236639835) * Italy + (0.7691730505036662) * Canada + (0.5288131271204765) * Germany + (0.14587349724391943) * Poland + (0.5385663377443994) * Netherlands + (0.31823366418892163) * France + (0.2581891581623347) * Spain + (-0.5661683554028615) * India + (0.7895611409669531) * Australia\n"
          ]
        }
      ]
    },
    {
      "cell_type": "markdown",
      "source": [
        "###**Prediction**"
      ],
      "metadata": {
        "id": "3N2PiDMkqq_A"
      }
    },
    {
      "cell_type": "code",
      "source": [
        "X = df_for_modeling.iloc[:, 1:-1]\n",
        "y = df_for_modeling.iloc[:, -1]\n",
        "\n",
        "X_train, X_test, y_train, y_test = train_test_split(X, y, test_size=0.3, random_state=0)\n",
        "linreg = LinearRegression()\n",
        "linreg.fit(X_train, y_train)\n",
        "\n",
        "y_test_pred = linreg.predict(X_test)\n",
        "\n",
        "r2 = r2_score(y_test, y_test_pred)\n",
        "\n",
        "print(f\"Mean absolute error of linear regression model: {round(skm.mean_absolute_error(y_test, y_test_pred), 2)}\")\n",
        "\n",
        "print(\"R-squared:\", r2)"
      ],
      "metadata": {
        "id": "4RGzkOHYFC3y",
        "colab": {
          "base_uri": "https://localhost:8080/"
        },
        "outputId": "fca33f46-e780-4f2b-b45f-c2b799d13306"
      },
      "execution_count": 41,
      "outputs": [
        {
          "output_type": "stream",
          "name": "stdout",
          "text": [
            "Mean absolute error of linear regression model: 0.49\n",
            "R-squared: 0.5093678793802078\n"
          ]
        }
      ]
    },
    {
      "cell_type": "markdown",
      "source": [
        "As we can see the $R^2$ is 50.9%, which means that the predicted data is accurate in 50.9%. (the goodness depends on the situation)\n",
        "\n",
        "From the resulting value of MAE we can see, that the average absolute error is quite small = \\~0.49 (as the mean value of salary in the dataset is \\~10.9)"
      ],
      "metadata": {
        "id": "htpGxvm0FxCX"
      }
    },
    {
      "cell_type": "code",
      "source": [
        "plt.figure(figsize=(8, 8))\n",
        "\n",
        "ax1 = sns.distplot(df_for_modeling['lsalary'], hist=False, color=\"r\", label=\"Actual Value\")\n",
        "sns.distplot(y_test_pred, hist=False, color=\"b\", label=\"Fitted Values\" , ax=ax1)\n",
        "\n",
        "\n",
        "plt.title('Actual vs Fitted Values for Price')\n",
        "plt.xlabel('Yearly Salary')\n",
        "plt.ylabel('Proportion of Respondents')\n",
        "\n",
        "plt.show()\n",
        "plt.close()"
      ],
      "metadata": {
        "colab": {
          "base_uri": "https://localhost:8080/",
          "height": 1000
        },
        "id": "95Zo3p6NFjkm",
        "outputId": "cf8af391-2dd9-45d0-ecb8-046fc95c382c"
      },
      "execution_count": 42,
      "outputs": [
        {
          "output_type": "stream",
          "name": "stderr",
          "text": [
            "<ipython-input-42-9bb74e699a82>:3: UserWarning:\n",
            "\n",
            "\n",
            "\n",
            "`distplot` is a deprecated function and will be removed in seaborn v0.14.0.\n",
            "\n",
            "Please adapt your code to use either `displot` (a figure-level function with\n",
            "similar flexibility) or `kdeplot` (an axes-level function for kernel density plots).\n",
            "\n",
            "For a guide to updating your code to use the new functions, please see\n",
            "https://gist.github.com/mwaskom/de44147ed2974457ad6372750bbe5751\n",
            "\n",
            "\n",
            "<ipython-input-42-9bb74e699a82>:4: UserWarning:\n",
            "\n",
            "\n",
            "\n",
            "`distplot` is a deprecated function and will be removed in seaborn v0.14.0.\n",
            "\n",
            "Please adapt your code to use either `displot` (a figure-level function with\n",
            "similar flexibility) or `kdeplot` (an axes-level function for kernel density plots).\n",
            "\n",
            "For a guide to updating your code to use the new functions, please see\n",
            "https://gist.github.com/mwaskom/de44147ed2974457ad6372750bbe5751\n",
            "\n",
            "\n"
          ]
        },
        {
          "output_type": "display_data",
          "data": {
            "text/plain": [
              "<Figure size 800x800 with 1 Axes>"
            ],
            "image/png": "[encoded data removed]"
          },
          "metadata": {}
        }
      ]
    },
    {
      "cell_type": "markdown",
      "source": [
        "We can see that the predicted values are quite close to the actual values and the 2 distributions are almost fully overlaping."
      ],
      "metadata": {
        "id": "iLtw-o8xHRe0"
      }
    },
    {
      "cell_type": "markdown",
      "source": [
        "##**F-test**"
      ],
      "metadata": {
        "id": "jaNf21VryD7V"
      }
    },
    {
      "cell_type": "markdown",
      "source": [
        "Now let's perform the F-test. We want to test:\n",
        "* if the factor of organization/company size has significant effect on the salary\n",
        "* if the factor of country, where the person works has significant effect on the salary\n",
        "* if the factor of age, of the person has significant effect on the salary\n",
        "* if the factor of format of work and gender, of the person have significant joint effect on the salary\n",
        "\n",
        "There will be such hypotheses:\n",
        "\n",
        "* $H_0$ - insignificant\n",
        "\n",
        "* $H_1$ - significant"
      ],
      "metadata": {
        "id": "B9-XCPRJJQMY"
      }
    },
    {
      "cell_type": "code",
      "source": [
        "formula_size = 'ConvertedCompYearly ~ emp_100_499 + emp_2_9 + emp_5k_10k + emp_1k_5k + emp_20_99 + emp_10k_plus + emp_500_1k + emp_10_19'"
      ],
      "metadata": {
        "id": "nZGuQ6lF27A0"
      },
      "execution_count": 43,
      "outputs": []
    },
    {
      "cell_type": "code",
      "source": [
        "model = ols(formula_size, data=df_for_modeling).fit()\n",
        "\n",
        "# Perform the F-test\n",
        "f_value = model.fvalue\n",
        "p_value = model.f_pvalue\n",
        "\n",
        "# Print the results\n",
        "print(\"F-value:\", f_value)\n",
        "print(\"P-value:\", p_value)"
      ],
      "metadata": {
        "colab": {
          "base_uri": "https://localhost:8080/"
        },
        "id": "Dpv4r8Fq3FjC",
        "outputId": "8fc37504-c798-4fec-fb2e-84e942fbb34b"
      },
      "execution_count": 44,
      "outputs": [
        {
          "output_type": "stream",
          "name": "stdout",
          "text": [
            "F-value: 147.81064501646887\n",
            "P-value: 7.849653384190407e-245\n"
          ]
        }
      ]
    },
    {
      "cell_type": "markdown",
      "source": [
        "As we can see, the p-value is very small, so we can reject the $H_0$. Therefore we can say, that indeed the size of organization is a significant factor for determining the salary of the worker."
      ],
      "metadata": {
        "id": "2rABcM6uwxmY"
      }
    },
    {
      "cell_type": "code",
      "source": [
        "formula_country = 'ConvertedCompYearly ~ UK + USA + Italy + Canada + Germany + Poland + Netherlands + France + Spain + India + Australia'"
      ],
      "metadata": {
        "id": "ctZXjbw8_-Da"
      },
      "execution_count": 45,
      "outputs": []
    },
    {
      "cell_type": "code",
      "source": [
        "model = ols(formula_country, data=df_for_modeling).fit()\n",
        "\n",
        "# Perform the F-test\n",
        "f_value = model.fvalue\n",
        "p_value = model.f_pvalue\n",
        "\n",
        "# Print the results\n",
        "print(\"F-value:\", f_value)\n",
        "print(\"P-value:\", p_value)"
      ],
      "metadata": {
        "id": "EUAkdtVbACwE",
        "colab": {
          "base_uri": "https://localhost:8080/"
        },
        "outputId": "bad18e73-58cf-4b80-c1e6-8fed2bcc7443"
      },
      "execution_count": 46,
      "outputs": [
        {
          "output_type": "stream",
          "name": "stdout",
          "text": [
            "F-value: 1296.217272247968\n",
            "P-value: 0.0\n"
          ]
        }
      ]
    },
    {
      "cell_type": "markdown",
      "source": [
        "From this test, we can see, that the country, where the person works is also a significant information factor for determining the amount of salary."
      ],
      "metadata": {
        "id": "AFQyWVPxxbyg"
      }
    },
    {
      "cell_type": "code",
      "source": [
        "formula_age = 'ConvertedCompYearly ~ age_35_44 + age_18_24 + age_25_34 + age_55_64 + age_45_54 + age_65_plus'"
      ],
      "metadata": {
        "id": "w0BK6PtrrZ3a"
      },
      "execution_count": 47,
      "outputs": []
    },
    {
      "cell_type": "code",
      "source": [
        "model = ols(formula_age, data=df_for_modeling).fit()\n",
        "\n",
        "# Perform the F-test\n",
        "f_value = model.fvalue\n",
        "p_value = model.f_pvalue\n",
        "\n",
        "# Print the results\n",
        "print(\"F-value:\", f_value)\n",
        "print(\"P-value:\", p_value)"
      ],
      "metadata": {
        "colab": {
          "base_uri": "https://localhost:8080/"
        },
        "id": "J-bmi4strsV7",
        "outputId": "c9184ab3-e096-46c4-bc43-1a62c88a8b4b"
      },
      "execution_count": 48,
      "outputs": [
        {
          "output_type": "stream",
          "name": "stdout",
          "text": [
            "F-value: 421.7745850662928\n",
            "P-value: 0.0\n"
          ]
        }
      ]
    },
    {
      "cell_type": "markdown",
      "source": [
        "The group of dummy variables representing the age of the person, appear to be also significant for the model."
      ],
      "metadata": {
        "id": "jxdwRcZrxzx5"
      }
    },
    {
      "cell_type": "code",
      "source": [
        "formula_single = 'ConvertedCompYearly ~ RemoteWork + Gender'"
      ],
      "metadata": {
        "id": "L5X91QRKTili"
      },
      "execution_count": 49,
      "outputs": []
    },
    {
      "cell_type": "code",
      "source": [
        "model = ols(formula_single, data=df_for_modeling).fit()\n",
        "\n",
        "# Perform the F-test\n",
        "f_value = model.fvalue\n",
        "p_value = model.f_pvalue\n",
        "\n",
        "# Print the results\n",
        "print(\"F-value:\", f_value)\n",
        "print(\"P-value:\", p_value)"
      ],
      "metadata": {
        "colab": {
          "base_uri": "https://localhost:8080/"
        },
        "id": "B3YsKkfvrSKN",
        "outputId": "1ecd8acd-fcea-4cd9-acff-2e9db73d3846"
      },
      "execution_count": 50,
      "outputs": [
        {
          "output_type": "stream",
          "name": "stdout",
          "text": [
            "F-value: 433.7705279097798\n",
            "P-value: 2.6566830946502103e-186\n"
          ]
        }
      ]
    },
    {
      "cell_type": "markdown",
      "source": [
        "And lastly, the joint significance of the format of the work and the gender of the person if proved to be true. Therefore we can conclude that those two factors are jointly significant for the model to determine the amount of salary."
      ],
      "metadata": {
        "id": "4t7dzgf7yK6u"
      }
    },
    {
      "cell_type": "markdown",
      "source": [
        "**Thank you!**"
      ],
      "metadata": {
        "id": "Jlw28wr2hhdT"
      }
    }
  ]
}